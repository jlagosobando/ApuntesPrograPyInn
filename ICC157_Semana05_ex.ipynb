{
  "nbformat": 4,
  "nbformat_minor": 0,
  "metadata": {
    "colab": {
      "provenance": [],
      "collapsed_sections": [
        "TyEHEPqwoOYk",
        "TwRfGbU-Xwk-",
        "5DYFQzQ-Xu6u",
        "2WBjJmpMXwtg"
      ],
      "toc_visible": true,
      "authorship_tag": "ABX9TyOKGiu18rt3aoagiqpI+ZnT",
      "include_colab_link": true
    },
    "kernelspec": {
      "name": "python3",
      "display_name": "Python 3"
    },
    "language_info": {
      "name": "python"
    }
  },
  "cells": [
    {
      "cell_type": "markdown",
      "metadata": {
        "id": "view-in-github",
        "colab_type": "text"
      },
      "source": [
        "<a href=\"https://colab.research.google.com/github/jlagosobando/ApuntesPrograPyInn/blob/main/ICC157_Semana05_ex.ipynb\" target=\"_parent\"><img src=\"https://colab.research.google.com/assets/colab-badge.svg\" alt=\"Open In Colab\"/></a>"
      ]
    },
    {
      "cell_type": "markdown",
      "source": [
        "<div>\n",
        "<img src=\"https://www.ufro.cl/index.php/normas-corporativas/30-logo-ufro-azul-horizontal/file\" width=\"250\"/>\n",
        "</div>\n",
        "\n",
        "**ICC157 Taller de Programación**\n",
        "\n",
        "Profesor Mg. Juan Lagos O."
      ],
      "metadata": {
        "id": "IkwHKWN2Pz2y"
      }
    },
    {
      "cell_type": "markdown",
      "source": [
        "### Ejercicio 1\n",
        "Un profesor tiene un salario inicial de $1500, y recibe un incremento de 10 % anual durante 6 años. ¿Cuál es su salario al cabo de 6 años? ¿Qué salario ha recibido en cada uno de los 6 años? "
      ],
      "metadata": {
        "id": "TyEHEPqwoOYk"
      }
    },
    {
      "cell_type": "code",
      "source": [],
      "metadata": {
        "id": "Srsbveu3YtZV"
      },
      "execution_count": null,
      "outputs": []
    },
    {
      "cell_type": "markdown",
      "source": [
        "### Ejercicio 2\n",
        "Se requiere un algoritmo para determinar, de N cantidades, cuántas son cero, cuántas son menores a cero, y cuántas son mayores a cero."
      ],
      "metadata": {
        "id": "TwRfGbU-Xwk-"
      }
    },
    {
      "cell_type": "code",
      "source": [],
      "metadata": {
        "id": "bzfHqQq5YttX"
      },
      "execution_count": null,
      "outputs": []
    },
    {
      "cell_type": "markdown",
      "source": [
        "### Ejercicio 3\n",
        "En un comercio por la compra de cada 2 productos dan uno gratis, es decir, 2 se pagan y el tercero es gratis.\n",
        "\n",
        "Desarrolle un algoritmo que simulé el paso de los productos por una caja, donde para cada producto se pida su precio.\n",
        "\n",
        "Siguiendo lo comentado en la primera línea, el simulador irá sumando los precios de los productos que corresponde pagar y no incluirá el tercero. Al final, dará el total a pagar."
      ],
      "metadata": {
        "id": "5DYFQzQ-Xu6u"
      }
    },
    {
      "cell_type": "code",
      "source": [],
      "metadata": {
        "id": "BRvag4SPXyq1"
      },
      "execution_count": null,
      "outputs": []
    },
    {
      "cell_type": "markdown",
      "source": [
        "### Ejercicio 4\n",
        "Desarrolle un algoritmo que para un número X dado, muestre por pantalla la suma de los ángulos interiores de los polígonos regulares comprendidos entre 3 y X.\n",
        "Por ej,\n",
        "* para X=3, mostrará 180° \n",
        "* para X=4, mostrará 180° y 360°\n",
        "* para X=5, mostrará 180°, 360° y 540°"
      ],
      "metadata": {
        "id": "2WBjJmpMXwtg"
      }
    },
    {
      "cell_type": "code",
      "source": [],
      "metadata": {
        "id": "qcmKSqQ9YpRJ"
      },
      "execution_count": null,
      "outputs": []
    }
  ]
}