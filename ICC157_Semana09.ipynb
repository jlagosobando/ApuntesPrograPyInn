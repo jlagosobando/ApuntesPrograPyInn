{
  "nbformat": 4,
  "nbformat_minor": 0,
  "metadata": {
    "colab": {
      "provenance": [],
      "authorship_tag": "ABX9TyPcVM3++0VDK9OUTnE5ZpL/",
      "include_colab_link": true
    },
    "kernelspec": {
      "name": "python3",
      "display_name": "Python 3"
    },
    "language_info": {
      "name": "python"
    }
  },
  "cells": [
    {
      "cell_type": "markdown",
      "metadata": {
        "id": "view-in-github",
        "colab_type": "text"
      },
      "source": [
        "<a href=\"https://colab.research.google.com/github/jlagosobando/ApuntesPrograPyInn/blob/main/ICC157_Semana09.ipynb\" target=\"_parent\"><img src=\"https://colab.research.google.com/assets/colab-badge.svg\" alt=\"Open In Colab\"/></a>"
      ]
    },
    {
      "cell_type": "markdown",
      "source": [
        "<div>\n",
        "<img src=\"https://www.ufro.cl/index.php/normas-corporativas/30-logo-ufro-azul-horizontal/file\" width=\"250\"/>\n",
        "</div>\n",
        "\n",
        "**ICC157 Taller de Programación**\n",
        "\n",
        "Profesor Mg. Juan Lagos O."
      ],
      "metadata": {
        "id": "a63KnQR-nB-x"
      }
    },
    {
      "cell_type": "markdown",
      "source": [
        "#### Conceptos Previos"
      ],
      "metadata": {
        "id": "rIGZCmoOpUUm"
      }
    },
    {
      "cell_type": "markdown",
      "source": [
        "#### Arreglos Unidimensionales"
      ],
      "metadata": {
        "id": "HSzwfieluXgm"
      }
    },
    {
      "cell_type": "code",
      "source": [
        "#creación de arreglo cuando conocemos sus datos\n",
        "frutas=[\"Manzana\",\"Piña\",\"Uva\",\"Melón\",\"Sandía\"]\n",
        "print(frutas[0])"
      ],
      "metadata": {
        "colab": {
          "base_uri": "https://localhost:8080/"
        },
        "id": "EI2PWX4ooDqe",
        "outputId": "02c1d160-1033-4008-99b7-e89acd712a25"
      },
      "execution_count": 1,
      "outputs": [
        {
          "output_type": "stream",
          "name": "stdout",
          "text": [
            "Manzana\n"
          ]
        }
      ]
    },
    {
      "cell_type": "code",
      "source": [
        "#reemplazo de info de una celda\n",
        "frutas[1]=\"Naranja\"\n",
        "print(frutas)"
      ],
      "metadata": {
        "colab": {
          "base_uri": "https://localhost:8080/"
        },
        "id": "7gOM5a3RoF0Q",
        "outputId": "a926493c-3d45-4960-d313-050d2a861363"
      },
      "execution_count": 2,
      "outputs": [
        {
          "output_type": "stream",
          "name": "stdout",
          "text": [
            "['Manzana', 'Naranja', 'Uva', 'Melón', 'Sandía']\n"
          ]
        }
      ]
    },
    {
      "cell_type": "code",
      "source": [
        "#recorrer un arreglo usando el largo del mismo\n",
        "for i in range(len(frutas)):\n",
        "  print(frutas[i])"
      ],
      "metadata": {
        "colab": {
          "base_uri": "https://localhost:8080/"
        },
        "id": "RtLFc43coQS3",
        "outputId": "9127b803-348a-426e-be9f-50bc6a874de7"
      },
      "execution_count": 3,
      "outputs": [
        {
          "output_type": "stream",
          "name": "stdout",
          "text": [
            "Manzana\n",
            "Naranja\n",
            "Uva\n",
            "Melón\n",
            "Sandía\n"
          ]
        }
      ]
    },
    {
      "cell_type": "code",
      "source": [
        "#recorrer un arreglo usando un puntero para cada elemento\n",
        "for fruta in frutas:\n",
        "  print(fruta)"
      ],
      "metadata": {
        "colab": {
          "base_uri": "https://localhost:8080/"
        },
        "id": "jT0CgDaVoUqb",
        "outputId": "3903d227-0803-49a1-b678-2415f5c4d957"
      },
      "execution_count": 4,
      "outputs": [
        {
          "output_type": "stream",
          "name": "stdout",
          "text": [
            "Manzana\n",
            "Naranja\n",
            "Uva\n",
            "Melón\n",
            "Sandía\n"
          ]
        }
      ]
    },
    {
      "cell_type": "code",
      "source": [
        "t#ciclo para recorrer un arreglo y reemplazar todos su valores\n",
        "for i in range(len(frutas)):\n",
        "  frutas[i]=input(\"ingrese la nueva fruta a guardar: \")"
      ],
      "metadata": {
        "colab": {
          "base_uri": "https://localhost:8080/"
        },
        "id": "D3s86RtDocSb",
        "outputId": "f8dfd210-8736-4f5a-acfb-1591799d62d1"
      },
      "execution_count": 5,
      "outputs": [
        {
          "name": "stdout",
          "output_type": "stream",
          "text": [
            "ingrese la nueva fruta a guardar: platano\n",
            "ingrese la nueva fruta a guardar: piña\n",
            "ingrese la nueva fruta a guardar: mandarina\n",
            "ingrese la nueva fruta a guardar: tomate\n",
            "ingrese la nueva fruta a guardar: palta\n"
          ]
        }
      ]
    },
    {
      "cell_type": "code",
      "source": [
        "#vemos como quedó el arreglo\n",
        "print(frutas)"
      ],
      "metadata": {
        "colab": {
          "base_uri": "https://localhost:8080/"
        },
        "id": "AKFeQK6Pp4nW",
        "outputId": "b36a54bb-328a-4fd8-bc10-c3612675f1c5"
      },
      "execution_count": 6,
      "outputs": [
        {
          "output_type": "stream",
          "name": "stdout",
          "text": [
            "['platano', 'piña', 'mandarina', 'tomate', 'palta']\n"
          ]
        }
      ]
    },
    {
      "cell_type": "markdown",
      "source": [
        "#### Arreglos Bidimensionales"
      ],
      "metadata": {
        "id": "oWCYfzbJuuDk"
      }
    },
    {
      "cell_type": "code",
      "source": [
        "#entendemos un arreglo bidimensional como un arreglo de arreglos\n",
        "#podemos crear 2 arreglos unidimensionales\n",
        "frutas=['platano', 'piña', 'mandarina', 'tomate', 'palta']\n",
        "precios=[1000,2500,300,1000,3500]\n",
        "#creamos un arreglo bimensiona, como un arreglo que contiene 2 arreglos ya creados\n",
        "stock_frutas=[frutas,precios]\n",
        "print(stock_frutas)"
      ],
      "metadata": {
        "colab": {
          "base_uri": "https://localhost:8080/"
        },
        "id": "m765NKb3rcOJ",
        "outputId": "4afc88ea-faeb-42fc-cd01-f23679e4f1ba"
      },
      "execution_count": 7,
      "outputs": [
        {
          "output_type": "stream",
          "name": "stdout",
          "text": [
            "[['platano', 'piña', 'mandarina', 'tomate', 'palta'], [1000, 2500, 300, 1000, 3500]]\n"
          ]
        }
      ]
    },
    {
      "cell_type": "code",
      "source": [
        "#si usamos solo una coordenada sobre stock_frutas, traemos un elemento de ahí, es decir un arreglo completo\n",
        "print(stock_frutas[0])\n",
        "print(stock_frutas[1])"
      ],
      "metadata": {
        "colab": {
          "base_uri": "https://localhost:8080/"
        },
        "id": "UUkjwMIesf3Z",
        "outputId": "2eebfe13-9906-436b-c0f2-573174afc84f"
      },
      "execution_count": 8,
      "outputs": [
        {
          "output_type": "stream",
          "name": "stdout",
          "text": [
            "['platano', 'piña', 'mandarina', 'tomate', 'palta']\n",
            "[1000, 2500, 300, 1000, 3500]\n"
          ]
        }
      ]
    },
    {
      "cell_type": "code",
      "source": [
        "#para usar una celda de un arreglo bidimensional, debemos usar 2 coordenadas\n",
        "print(stock_frutas[0][2])"
      ],
      "metadata": {
        "colab": {
          "base_uri": "https://localhost:8080/"
        },
        "id": "QrsYt7Bsss-o",
        "outputId": "651c9f68-b87e-4674-b25f-bdb4ee88b159"
      },
      "execution_count": 9,
      "outputs": [
        {
          "output_type": "stream",
          "name": "stdout",
          "text": [
            "mandarina\n"
          ]
        }
      ]
    },
    {
      "cell_type": "code",
      "source": [
        "#ejemplos de uso de arreglos bidimensionales\n",
        "frutas=['platano', 'piña', 'mandarina', 'tomate', 'palta']\n",
        "precios=[1000,2500,300,1000,3500,690]\n",
        "\n",
        "for i in range (len(stock_frutas[0])):\n",
        "  print(stock_frutas[0][i],\"su precio es: $\",stock_frutas[1][i])"
      ],
      "metadata": {
        "colab": {
          "base_uri": "https://localhost:8080/"
        },
        "id": "OOMyi6ULs0r2",
        "outputId": "02cb35f4-37c9-432c-fa31-b07492294157"
      },
      "execution_count": 10,
      "outputs": [
        {
          "output_type": "stream",
          "name": "stdout",
          "text": [
            "platano su precio es: $ 1000\n",
            "piña su precio es: $ 2500\n",
            "mandarina su precio es: $ 300\n",
            "tomate su precio es: $ 1000\n",
            "palta su precio es: $ 3500\n"
          ]
        }
      ]
    },
    {
      "cell_type": "code",
      "source": [
        "#escenarios extremos: podemos intentar usar una celda que no existe por error\n",
        "stock_frutas=[['platano', 'piña', 'mandarina', 'tomate', 'palta'],[1000,2500,300,1000]]\n",
        "print(stock_frutas)"
      ],
      "metadata": {
        "colab": {
          "base_uri": "https://localhost:8080/"
        },
        "id": "ax9TT9xCtB2v",
        "outputId": "0a4867c9-6313-4606-fd5e-6f16d1a7c710"
      },
      "execution_count": 11,
      "outputs": [
        {
          "output_type": "stream",
          "name": "stdout",
          "text": [
            "[['platano', 'piña', 'mandarina', 'tomate', 'palta'], [1000, 2500, 300, 1000]]\n"
          ]
        }
      ]
    },
    {
      "cell_type": "code",
      "source": [
        "#usamos como referencia de largo un arreglo más largo que el otro\n",
        "#cuando queremos llamar al precio de la palta que no existe\n",
        "for i in range (len(stock_frutas[0])):\n",
        "    print(stock_frutas[0][i],\"su precio es: $\",stock_frutas[1][i])\n"
      ],
      "metadata": {
        "colab": {
          "base_uri": "https://localhost:8080/",
          "height": 269
        },
        "id": "5qkFEggGtMKU",
        "outputId": "1bdc0784-aa28-4104-e595-b0bc9144e6dd"
      },
      "execution_count": 12,
      "outputs": [
        {
          "output_type": "stream",
          "name": "stdout",
          "text": [
            "platano su precio es: $ 1000\n",
            "piña su precio es: $ 2500\n",
            "mandarina su precio es: $ 300\n",
            "tomate su precio es: $ 1000\n"
          ]
        },
        {
          "output_type": "error",
          "ename": "IndexError",
          "evalue": "ignored",
          "traceback": [
            "\u001b[0;31m---------------------------------------------------------------------------\u001b[0m",
            "\u001b[0;31mIndexError\u001b[0m                                Traceback (most recent call last)",
            "\u001b[0;32m<ipython-input-12-1e7a511f926b>\u001b[0m in \u001b[0;36m<module>\u001b[0;34m\u001b[0m\n\u001b[1;32m      2\u001b[0m \u001b[0;31m#cuando queremos llamar al precio de la palta que no existe\u001b[0m\u001b[0;34m\u001b[0m\u001b[0;34m\u001b[0m\u001b[0;34m\u001b[0m\u001b[0m\n\u001b[1;32m      3\u001b[0m \u001b[0;32mfor\u001b[0m \u001b[0mi\u001b[0m \u001b[0;32min\u001b[0m \u001b[0mrange\u001b[0m \u001b[0;34m(\u001b[0m\u001b[0mlen\u001b[0m\u001b[0;34m(\u001b[0m\u001b[0mstock_frutas\u001b[0m\u001b[0;34m[\u001b[0m\u001b[0;36m0\u001b[0m\u001b[0;34m]\u001b[0m\u001b[0;34m)\u001b[0m\u001b[0;34m)\u001b[0m\u001b[0;34m:\u001b[0m\u001b[0;34m\u001b[0m\u001b[0;34m\u001b[0m\u001b[0m\n\u001b[0;32m----> 4\u001b[0;31m     \u001b[0mprint\u001b[0m\u001b[0;34m(\u001b[0m\u001b[0mstock_frutas\u001b[0m\u001b[0;34m[\u001b[0m\u001b[0;36m0\u001b[0m\u001b[0;34m]\u001b[0m\u001b[0;34m[\u001b[0m\u001b[0mi\u001b[0m\u001b[0;34m]\u001b[0m\u001b[0;34m,\u001b[0m\u001b[0;34m\"su precio es: $\"\u001b[0m\u001b[0;34m,\u001b[0m\u001b[0mstock_frutas\u001b[0m\u001b[0;34m[\u001b[0m\u001b[0;36m1\u001b[0m\u001b[0;34m]\u001b[0m\u001b[0;34m[\u001b[0m\u001b[0mi\u001b[0m\u001b[0;34m]\u001b[0m\u001b[0;34m)\u001b[0m\u001b[0;34m\u001b[0m\u001b[0;34m\u001b[0m\u001b[0m\n\u001b[0m",
            "\u001b[0;31mIndexError\u001b[0m: list index out of range"
          ]
        }
      ]
    },
    {
      "cell_type": "code",
      "source": [
        "#parchamos el error con try-except\n",
        "for i in range (len(stock_frutas[0])):\n",
        "  try:\n",
        "    print(stock_frutas[0][i],\"su precio es: $\",stock_frutas[1][i])\n",
        "  except:\n",
        "    print(\"algo anda mal con esta fruta :c\")   "
      ],
      "metadata": {
        "colab": {
          "base_uri": "https://localhost:8080/"
        },
        "id": "TZn66SE_tO65",
        "outputId": "10b9ee7d-1878-4834-e9b8-243b4dde55af"
      },
      "execution_count": 13,
      "outputs": [
        {
          "output_type": "stream",
          "name": "stdout",
          "text": [
            "platano su precio es: $ 1000\n",
            "piña su precio es: $ 2500\n",
            "mandarina su precio es: $ 300\n",
            "tomate su precio es: $ 1000\n",
            "algo anda mal con esta fruta :c\n"
          ]
        }
      ]
    },
    {
      "cell_type": "code",
      "source": [
        "stock_frutas=[['platano', 'piña', 'mandarina', 'tomate', 'palta'],[1000,2500,300,1000,3500,650]]\n",
        "print(stock_frutas)\n",
        "\n",
        "for i in range (len(stock_frutas[1])):\n",
        "  try:\n",
        "    print(stock_frutas[0][i],\"su precio es: $\",stock_frutas[1][i])\n",
        "  except:\n",
        "    print(\"algo anda mal con esta fruta :c\")  "
      ],
      "metadata": {
        "colab": {
          "base_uri": "https://localhost:8080/"
        },
        "id": "ltc_hcQVteZw",
        "outputId": "7064b2bb-be38-4cc6-bca8-ab9273bae643"
      },
      "execution_count": 14,
      "outputs": [
        {
          "output_type": "stream",
          "name": "stdout",
          "text": [
            "[['platano', 'piña', 'mandarina', 'tomate', 'palta'], [1000, 2500, 300, 1000, 3500, 650]]\n",
            "platano su precio es: $ 1000\n",
            "piña su precio es: $ 2500\n",
            "mandarina su precio es: $ 300\n",
            "tomate su precio es: $ 1000\n",
            "palta su precio es: $ 3500\n",
            "algo anda mal con esta fruta :c\n"
          ]
        }
      ]
    },
    {
      "cell_type": "markdown",
      "source": [
        "#### Archivos"
      ],
      "metadata": {
        "id": "dcpePVI81_AG"
      }
    },
    {
      "cell_type": "code",
      "source": [
        "#abrir archivo para para escritura, si archivo no existe se crea\n",
        "f=open(\"archivo.txt\",\"w\")\n",
        "f.write(\"test\")\n",
        "f.close()"
      ],
      "metadata": {
        "id": "na9TiNcLtmTA"
      },
      "execution_count": 15,
      "outputs": []
    },
    {
      "cell_type": "code",
      "source": [
        "f=open(\"frutas.txt\",\"w\")\n",
        "for fruta in frutas:\n",
        "  f.write(fruta)\n",
        "f.close()"
      ],
      "metadata": {
        "id": "JViwGXM3trlf"
      },
      "execution_count": 16,
      "outputs": []
    },
    {
      "cell_type": "code",
      "source": [
        "f=open(\"frutas.txt\",\"w\")\n",
        "for fruta in frutas:\n",
        "  f.write(fruta+\"\\n\")\n",
        "f.close()"
      ],
      "metadata": {
        "id": "dAISLrYztwaE"
      },
      "execution_count": 17,
      "outputs": []
    },
    {
      "cell_type": "code",
      "source": [
        "#abrir archivo para lectura, lee todo de una vez\n",
        "f=open(\"frutas.txt\",\"r\")\n",
        "text=f.read()\n",
        "print(text)"
      ],
      "metadata": {
        "colab": {
          "base_uri": "https://localhost:8080/"
        },
        "id": "o5LMRzt2tyCB",
        "outputId": "bbace4e7-493c-4313-e16a-ae1c4244b08d"
      },
      "execution_count": 18,
      "outputs": [
        {
          "output_type": "stream",
          "name": "stdout",
          "text": [
            "platano\n",
            "piña\n",
            "mandarina\n",
            "tomate\n",
            "palta\n",
            "\n"
          ]
        }
      ]
    },
    {
      "cell_type": "code",
      "source": [
        "#abrir archivo para lectura, lee solo una linea\n",
        "f=open(\"frutas.txt\",\"r\")\n",
        "texto=f.readline()\n",
        "print(texto)\n",
        "texto=f.readline()\n",
        "print(texto)\n",
        "texto=f.readline()\n",
        "print(texto)"
      ],
      "metadata": {
        "colab": {
          "base_uri": "https://localhost:8080/"
        },
        "id": "s3c7Ysntt0xq",
        "outputId": "6335c952-92ce-4bf1-8715-d38b6b1ad82a"
      },
      "execution_count": 19,
      "outputs": [
        {
          "output_type": "stream",
          "name": "stdout",
          "text": [
            "platano\n",
            "\n",
            "piña\n",
            "\n",
            "mandarina\n",
            "\n"
          ]
        }
      ]
    },
    {
      "cell_type": "code",
      "source": [
        "f=open(\"frutas.txt\",\"r\")\n",
        "texto=f.readline(2)\n",
        "print(texto)"
      ],
      "metadata": {
        "colab": {
          "base_uri": "https://localhost:8080/"
        },
        "id": "XbNkk9o2t4bd",
        "outputId": "560fadeb-1b88-4d08-db62-d78c01e313d7"
      },
      "execution_count": 20,
      "outputs": [
        {
          "output_type": "stream",
          "name": "stdout",
          "text": [
            "pl\n"
          ]
        }
      ]
    },
    {
      "cell_type": "code",
      "source": [
        "#abrir archivo para lectura, lee linea a linea e imprime mietras no se llegue al final del archivo\n",
        "f=open(\"frutas.txt\",\"r\")\n",
        "while True:\n",
        "    texto=f.readline()\n",
        "    if texto==\"\":\n",
        "        break\n",
        "    print(texto)"
      ],
      "metadata": {
        "colab": {
          "base_uri": "https://localhost:8080/"
        },
        "id": "g3DsmBe6t6Ac",
        "outputId": "77608c2e-d18a-4746-ada1-57d62c682ed2"
      },
      "execution_count": 21,
      "outputs": [
        {
          "output_type": "stream",
          "name": "stdout",
          "text": [
            "platano\n",
            "\n",
            "piña\n",
            "\n",
            "mandarina\n",
            "\n",
            "tomate\n",
            "\n",
            "palta\n",
            "\n"
          ]
        }
      ]
    },
    {
      "cell_type": "markdown",
      "source": [
        "#### Actividad Autónoma"
      ],
      "metadata": {
        "id": "01gAqn8Nt604"
      }
    },
    {
      "cell_type": "code",
      "source": [
        "#Desarrollar un código que permita cargar los datos desde un archivo hacia un arreglo unidimensional"
      ],
      "metadata": {
        "id": "yKwb0U7buAyH"
      },
      "execution_count": 22,
      "outputs": []
    },
    {
      "cell_type": "code",
      "source": [
        "#Desarrollar un código que permita guardar datos de un arreglo bidimensional en un archivo"
      ],
      "metadata": {
        "id": "rRxEbyAQwHl2"
      },
      "execution_count": 23,
      "outputs": []
    },
    {
      "cell_type": "code",
      "source": [
        "#Desarrollar un código que permita cargar los datos desde un archivo hacia un arreglo bidimensional"
      ],
      "metadata": {
        "id": "jx_8k_2XwPL5"
      },
      "execution_count": 24,
      "outputs": []
    }
  ]
}