{
  "nbformat": 4,
  "nbformat_minor": 0,
  "metadata": {
    "colab": {
      "provenance": [],
      "collapsed_sections": [
        "TyEHEPqwoOYk",
        "Mz5dGs6VoOVy",
        "UDuUHROwoOTG",
        "yVxf8k99oONm",
        "bLFOjKNroOKq",
        "5Oj2pFmcoOAR"
      ],
      "toc_visible": true,
      "authorship_tag": "ABX9TyMWbnxgjqeVJdPvTCCyODBV",
      "include_colab_link": true
    },
    "kernelspec": {
      "name": "python3",
      "display_name": "Python 3"
    },
    "language_info": {
      "name": "python"
    }
  },
  "cells": [
    {
      "cell_type": "markdown",
      "metadata": {
        "id": "view-in-github",
        "colab_type": "text"
      },
      "source": [
        "<a href=\"https://colab.research.google.com/github/jlagosobando/ApuntesPrograPyInn/blob/main/ICC157_Semana03.ipynb\" target=\"_parent\"><img src=\"https://colab.research.google.com/assets/colab-badge.svg\" alt=\"Open In Colab\"/></a>"
      ]
    },
    {
      "cell_type": "markdown",
      "source": [
        "<div>\n",
        "<img src=\"https://www.ufro.cl/index.php/normas-corporativas/30-logo-ufro-azul-horizontal/file\" width=\"250\"/>\n",
        "</div>\n",
        "\n",
        "**ICC157 Taller de Programación**\n",
        "\n",
        "Profesor Mg. Juan Lagos O."
      ],
      "metadata": {
        "id": "IkwHKWN2Pz2y"
      }
    },
    {
      "cell_type": "markdown",
      "source": [
        "Para cada uno de los siguientes ejercicios resolver intentando incorporar de manera correcta todo lo visto en el curso hasta el momento.\n"
      ],
      "metadata": {
        "id": "jd2_hPkTP83y"
      }
    },
    {
      "cell_type": "markdown",
      "source": [
        "### Ejercicio 1\n",
        "Ingresar 3 números decimales escribir un algoritmo que imprima el mayor, el menor y el promedio\n",
        "\n"
      ],
      "metadata": {
        "id": "TyEHEPqwoOYk"
      }
    },
    {
      "cell_type": "code",
      "source": [],
      "metadata": {
        "id": "HIDsEvxLo5ov"
      },
      "execution_count": null,
      "outputs": []
    },
    {
      "cell_type": "markdown",
      "source": [
        "### Ejercicio 2\n",
        "Transforma la distancia recorrida ingresada en kilómetros por el usuario en:\n",
        "a. millas\n",
        "b. pulgadas"
      ],
      "metadata": {
        "id": "Mz5dGs6VoOVy"
      }
    },
    {
      "cell_type": "code",
      "source": [],
      "metadata": {
        "id": "OGMUEqoTo616"
      },
      "execution_count": null,
      "outputs": []
    },
    {
      "cell_type": "markdown",
      "source": [
        "### Ejercicio 3\n",
        "Definir si un número ingresado es par o impar"
      ],
      "metadata": {
        "id": "UDuUHROwoOTG"
      }
    },
    {
      "cell_type": "code",
      "source": [],
      "metadata": {
        "id": "VZqah_IApHos"
      },
      "execution_count": null,
      "outputs": []
    },
    {
      "cell_type": "markdown",
      "source": [
        "### Ejercicio 4\n",
        "Crea un programa que permita calcular el IMC de una persona y entrega el rango (según tabla de referencia) al cual pertenece el usuario segun los datos ingresados.\n",
        "\n",
        "| IMC | Nivel de peso |\n",
        "|------------------|-----------------|\n",
        "| menos de 18.5| Bajo peso|\n",
        "| 18.5 - 24.9| Normal|\n",
        "| 25.0 - 29.9| Sobrepeso|\n",
        "| 30.0 - más| Obeso|"
      ],
      "metadata": {
        "id": "yVxf8k99oONm"
      }
    },
    {
      "cell_type": "code",
      "source": [],
      "metadata": {
        "id": "Lyjfl_pju7NG"
      },
      "execution_count": null,
      "outputs": []
    },
    {
      "cell_type": "markdown",
      "source": [
        "### Ejercicio 5\n",
        "Realice un algoritmo para calcular la siguiente función de acuerdo al valor x que se\n",
        "ingresa. Se sabe que k = 10.\n",
        "\n",
        "*  f(x) = x-(k/x) cuando x>0\n",
        "*  f(x) = 0 cuando x=0\n",
        "*  f(x) = x+(k/x) cuando x<0"
      ],
      "metadata": {
        "id": "bLFOjKNroOKq"
      }
    },
    {
      "cell_type": "code",
      "source": [],
      "metadata": {
        "id": "flZ2yC1UpGj9"
      },
      "execution_count": null,
      "outputs": []
    },
    {
      "cell_type": "markdown",
      "source": [
        "### Ejercicio 6\n",
        "Crea un programa que reciba números reales y al final entregue la suma de todos ellos. Finalizar al ingresar 0\n",
        "\n"
      ],
      "metadata": {
        "id": "5Oj2pFmcoOAR"
      }
    },
    {
      "cell_type": "code",
      "source": [],
      "metadata": {
        "id": "DiPhL__RpGIf"
      },
      "execution_count": null,
      "outputs": []
    }
  ]
}