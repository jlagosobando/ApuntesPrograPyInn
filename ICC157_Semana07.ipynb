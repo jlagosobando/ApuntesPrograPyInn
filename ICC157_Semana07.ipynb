{
  "nbformat": 4,
  "nbformat_minor": 0,
  "metadata": {
    "colab": {
      "provenance": [],
      "toc_visible": true,
      "collapsed_sections": [],
      "authorship_tag": "ABX9TyOiroW6NI3Ha9bCywuqamjQ",
      "include_colab_link": true
    },
    "kernelspec": {
      "name": "python3",
      "display_name": "Python 3"
    },
    "language_info": {
      "name": "python"
    }
  },
  "cells": [
    {
      "cell_type": "markdown",
      "metadata": {
        "id": "view-in-github",
        "colab_type": "text"
      },
      "source": [
        "<a href=\"https://colab.research.google.com/github/jlagosobando/ApuntesPrograPyInn/blob/main/ICC157_Semana07.ipynb\" target=\"_parent\"><img src=\"https://colab.research.google.com/assets/colab-badge.svg\" alt=\"Open In Colab\"/></a>"
      ]
    },
    {
      "cell_type": "markdown",
      "source": [
        "<div>\n",
        "<img src=\"https://www.ufro.cl/index.php/normas-corporativas/30-logo-ufro-azul-horizontal/file\" width=\"250\"/>\n",
        "</div>\n",
        "\n",
        "**ICC157 Taller de Programación**\n",
        "\n",
        "Profesor Mg. Juan Lagos O."
      ],
      "metadata": {
        "id": "a63KnQR-nB-x"
      }
    },
    {
      "cell_type": "markdown",
      "source": [
        "### Algoritmo del modulo 11"
      ],
      "metadata": {
        "id": "Z0-DDrhCxdkO"
      }
    },
    {
      "cell_type": "markdown",
      "source": [
        "Es el algoritmo que sive para calcular el Digito Verificador (lo que está luego del guión) de nuestro rut. Tiene una variante que se utiliza para las PPU de los vehículos. Varios pasos son arbitrarios para darle caracteristicas de seguridad, y es te notebook lo revisaremos de forma secuencial.\n",
        "\n",
        "Recuerda para evitar errores, ejecutar cada celda solo una vez.\n",
        "\n",
        "<div>\n",
        "<img src=\"https://drive.google.com/uc?export=view&id=112JZtg8SZqD1DRV-etRCaDEf6CxqmwFF\" width=\"720\"/>\n",
        "</div>"
      ],
      "metadata": {
        "id": "EbJiuX1e0bz-"
      }
    },
    {
      "cell_type": "markdown",
      "source": [
        "Para este primer acercamiento usaremos un rut random sacado de internet.\n",
        "\n",
        "Guardamos ese valor en la variable."
      ],
      "metadata": {
        "id": "oIJ1NBLGMamq"
      }
    },
    {
      "cell_type": "code",
      "source": [
        "rut=14733329"
      ],
      "metadata": {
        "id": "xgtAPw7TxSmw"
      },
      "execution_count": null,
      "outputs": []
    },
    {
      "cell_type": "markdown",
      "source": [
        "Para trabajar este rut, usaremos un arreglo el cual guardará los digitos uno por uno en celdas del mismo."
      ],
      "metadata": {
        "id": "3EORYZlFM9IM"
      }
    },
    {
      "cell_type": "code",
      "source": [
        "cadena_rut=[]"
      ],
      "metadata": {
        "id": "V5lygedhM9s8"
      },
      "execution_count": null,
      "outputs": []
    },
    {
      "cell_type": "code",
      "source": [
        "while(rut>0):\n",
        "  cadena_rut.append(rut%10)\n",
        "  rut=rut//10 "
      ],
      "metadata": {
        "id": "rkSFmZjyNG_g"
      },
      "execution_count": null,
      "outputs": []
    },
    {
      "cell_type": "code",
      "source": [
        "print(cadena_rut)"
      ],
      "metadata": {
        "colab": {
          "base_uri": "https://localhost:8080/"
        },
        "id": "AY6Gq7uTNJjo",
        "outputId": "ee6998bb-2fdd-46c6-d323-8c4159ba057f"
      },
      "execution_count": null,
      "outputs": [
        {
          "output_type": "stream",
          "name": "stdout",
          "text": [
            "[9, 2, 3, 3, 3, 7, 4, 1]\n"
          ]
        }
      ]
    },
    {
      "cell_type": "markdown",
      "source": [
        "Tomamos valores iniciales para los factores y sumatoria de productos"
      ],
      "metadata": {
        "id": "DRuNobyuNO8v"
      }
    },
    {
      "cell_type": "code",
      "source": [
        "factor=2\n",
        "sumatoria=0"
      ],
      "metadata": {
        "id": "ipru09z1YYYA"
      },
      "execution_count": null,
      "outputs": []
    },
    {
      "cell_type": "markdown",
      "source": [
        "Recorremos el arreglo para tomar cada digito y usarlo"
      ],
      "metadata": {
        "id": "YqVXYTYRYeVp"
      }
    },
    {
      "cell_type": "code",
      "source": [
        "#para cada elemento en el arreglo, lo llamamos digito cuando lo usamos\n",
        "for digito in cadena_rut:\n",
        "  #creamos el producto con el digito tomado y su factor asociado\n",
        "  prod=digito*factor\n",
        "  #como ya usamos el factor lo aumentamos para su proximo uso\n",
        "  factor=factor+1\n",
        "  #si el factor toma un valor inadecuado, lo reseteamos a un valor util\n",
        "  if(factor>7):\n",
        "    factor=2\n",
        "  #acumulamos los productos en la sumatoria  \n",
        "  sumatoria=sumatoria+prod  "
      ],
      "metadata": {
        "id": "YbNZ3P9UYc3v"
      },
      "execution_count": null,
      "outputs": []
    },
    {
      "cell_type": "code",
      "source": [
        "print(sumatoria)"
      ],
      "metadata": {
        "colab": {
          "base_uri": "https://localhost:8080/"
        },
        "id": "O-e54NwQY6mT",
        "outputId": "ad3e494d-fed3-4e06-c7af-313fb4e35133"
      },
      "execution_count": null,
      "outputs": [
        {
          "output_type": "stream",
          "name": "stdout",
          "text": [
            "129\n"
          ]
        }
      ]
    },
    {
      "cell_type": "markdown",
      "source": [
        "Se hacen los calculos finales y de la decisión del DV"
      ],
      "metadata": {
        "id": "wFlTU-5bb26D"
      }
    },
    {
      "cell_type": "code",
      "source": [
        "sumatoria=sumatoria%11\n",
        "dv=11-sumatoria\n",
        "print(dv)"
      ],
      "metadata": {
        "colab": {
          "base_uri": "https://localhost:8080/"
        },
        "id": "bMGGkdeNb2cN",
        "outputId": "7a21b048-14ce-4ed7-ef60-82f484320c9e"
      },
      "execution_count": null,
      "outputs": [
        {
          "output_type": "stream",
          "name": "stdout",
          "text": [
            "3\n"
          ]
        }
      ]
    },
    {
      "cell_type": "code",
      "source": [
        "if(dv<10):\n",
        "  print(\"su dv es\",dv)\n",
        "elif(dv==10):\n",
        "  print(\"su dv es K\")\n",
        "else:\n",
        "  print(\"su dv es 0\")    "
      ],
      "metadata": {
        "colab": {
          "base_uri": "https://localhost:8080/"
        },
        "id": "xQGmNk8Nb_UN",
        "outputId": "d29fc116-afbb-4f6f-e78c-d3f7a8599ac6"
      },
      "execution_count": null,
      "outputs": [
        {
          "output_type": "stream",
          "name": "stdout",
          "text": [
            "su dv es 3\n"
          ]
        }
      ]
    },
    {
      "cell_type": "markdown",
      "source": [
        "### Ejercicio Propuesto:\n",
        "Tomando elementos del código anterior, reordenando y complementadolo, complete los siguientes bloques de código para hacerlo adecuadamente funcional con todas las normas vistas en el curso a la fecha.\n",
        "\n",
        "Puede añadir lo que estime necesario siempre y cuando esté debidamente justificado con comentarios de analisis."
      ],
      "metadata": {
        "id": "f9W8lJmncD7L"
      }
    },
    {
      "cell_type": "code",
      "source": [
        "#debe recibir ruts completos (ej: 14733329-3) y validar su valor\n",
        "rut="
      ],
      "metadata": {
        "id": "pfCsYnc4fT0n"
      },
      "execution_count": null,
      "outputs": []
    },
    {
      "cell_type": "code",
      "source": [
        "#esta funcion debe recibir el rut y retornar un True si es rut es real, o False si es falso.\n",
        "def validarRut():\n"
      ],
      "metadata": {
        "id": "-pYwHqb4fuXz"
      },
      "execution_count": null,
      "outputs": []
    },
    {
      "cell_type": "code",
      "source": [
        "#al invocar la función, dará la info respecto a la validez del rut dado\n",
        "validarRut(rut)"
      ],
      "metadata": {
        "id": "UEIq1CSqiIDS"
      },
      "execution_count": null,
      "outputs": []
    }
  ]
}