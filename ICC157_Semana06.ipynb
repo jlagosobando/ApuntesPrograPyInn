{
  "nbformat": 4,
  "nbformat_minor": 0,
  "metadata": {
    "colab": {
      "provenance": [],
      "collapsed_sections": [],
      "include_colab_link": true
    },
    "kernelspec": {
      "name": "python3",
      "display_name": "Python 3"
    },
    "language_info": {
      "name": "python"
    }
  },
  "cells": [
    {
      "cell_type": "markdown",
      "metadata": {
        "id": "view-in-github",
        "colab_type": "text"
      },
      "source": [
        "<a href=\"https://colab.research.google.com/github/jlagosobando/ApuntesPrograPyInn/blob/main/ICC157_Semana06.ipynb\" target=\"_parent\"><img src=\"https://colab.research.google.com/assets/colab-badge.svg\" alt=\"Open In Colab\"/></a>"
      ]
    },
    {
      "cell_type": "markdown",
      "source": [
        "<div>\n",
        "<img src=\"https://www.ufro.cl/index.php/normas-corporativas/30-logo-ufro-azul-horizontal/file\" width=\"250\"/>\n",
        "</div>\n",
        "\n",
        "**ICC157 Taller de Programación**\n",
        "\n",
        "Profesor Mg. Juan Lagos O."
      ],
      "metadata": {
        "id": "XEmRGh618oU7"
      }
    },
    {
      "cell_type": "markdown",
      "source": [
        "#### Arreglos\n",
        "\n",
        "\n",
        "\n",
        "1.   También llamados en la documentación como Listas\n",
        "2.   Estructura de datos que almacena múltiples valores, indicados con un índice\n",
        "3.   Cada vez que hago referencia a un arreglo, será de la forma nombre[índice]\n",
        "4.   La lógica de su uso se basa principalmente en que los valores guardados tengan una relación conceptual entre si\n",
        "\n",
        "\n",
        "<div>\n",
        "<img src=\"https://drive.google.com/uc?export=view&id=1_mCWiZnJz74-Sf93gYiyDs1vNWlidXIp\" width=\"150\"/>\n",
        "</div>"
      ],
      "metadata": {
        "id": "EQFzopKV9JTk"
      }
    },
    {
      "cell_type": "markdown",
      "source": [
        "Puedo crear arreglos con un identificador o nombre, que nos diga que elementos son los que estamos guardando en él. Por ejemplo creo mi arreglo llamado *frutas*, con la enumeración de palabras que efectivamente, son frutas."
      ],
      "metadata": {
        "id": "S9pHQEIo-c12"
      }
    },
    {
      "cell_type": "code",
      "source": [
        "frutas=[\"Manzana\",\"Piña\",\"Uva\",\"Melón\",\"Sandía\"]"
      ],
      "metadata": {
        "id": "mO8Vya2Z-qgD"
      },
      "execution_count": 2,
      "outputs": []
    },
    {
      "cell_type": "markdown",
      "source": [
        "Para ver el contenido de un arreglo, puedo hacer referencia a una celda en especifico como en el primer print, o al arreglo completo como en el segundo."
      ],
      "metadata": {
        "id": "pgQg-0XB-tLB"
      }
    },
    {
      "cell_type": "code",
      "metadata": {
        "id": "8zUJk_pFkv4W",
        "colab": {
          "base_uri": "https://localhost:8080/"
        },
        "outputId": "7779b59e-dd0b-409e-df39-85c58dd3485f"
      },
      "source": [
        "print(frutas[2])\n",
        "print(frutas)"
      ],
      "execution_count": 3,
      "outputs": [
        {
          "output_type": "stream",
          "name": "stdout",
          "text": [
            "Uva\n",
            "['Manzana', 'Piña', 'Uva', 'Melón', 'Sandía']\n"
          ]
        }
      ]
    },
    {
      "cell_type": "markdown",
      "source": [
        "Además, puedo utilizar una variante del ciclo for para recorrer el arreglo y usar sus elementos. En este caso la palabra fruta es un indicador o puntero que se mueve por el arreglo tomando cada uno de los valores de las celdas."
      ],
      "metadata": {
        "id": "3iteaLGo-4O9"
      }
    },
    {
      "cell_type": "code",
      "source": [
        "#para cada elemento en arreglo:\n",
        "#for elemento in arreglo\n",
        "for fruta in frutas:\n",
        "  print(fruta)"
      ],
      "metadata": {
        "id": "IiBzwr1C-3nO",
        "colab": {
          "base_uri": "https://localhost:8080/"
        },
        "outputId": "3fec394e-f3a5-4d9a-aa62-f305677dee83"
      },
      "execution_count": 4,
      "outputs": [
        {
          "output_type": "stream",
          "name": "stdout",
          "text": [
            "Manzana\n",
            "Piña\n",
            "Uva\n",
            "Melón\n",
            "Sandía\n"
          ]
        }
      ]
    },
    {
      "cell_type": "markdown",
      "source": [
        "Para guardar elementos en un arreglo que ya existe, puedo seguir la lógica ya conversada de **variable=valor**, pero en este caso en lugar de variable utilizo una celda del arreglo, teniendo el patrón de **celda=valor**"
      ],
      "metadata": {
        "id": "4HTBMMvx_I6C"
      }
    },
    {
      "cell_type": "code",
      "metadata": {
        "id": "ldPNgPXEqFaO",
        "colab": {
          "base_uri": "https://localhost:8080/"
        },
        "outputId": "70124fa5-dc0b-45bb-cca5-c4a1e704a927"
      },
      "source": [
        "frutas[2]=\"Frutilla\"\n",
        "print(frutas)"
      ],
      "execution_count": 5,
      "outputs": [
        {
          "output_type": "stream",
          "name": "stdout",
          "text": [
            "['Manzana', 'Piña', 'Frutilla', 'Melón', 'Sandía']\n"
          ]
        }
      ]
    },
    {
      "cell_type": "markdown",
      "source": [
        "Además cuando no tengo certeza de cuantos elementos tendré en mi arreglo, podemos crearlo vacío y luego añadirle elementos."
      ],
      "metadata": {
        "id": "tZKeqb0mLGJt"
      }
    },
    {
      "cell_type": "code",
      "metadata": {
        "colab": {
          "base_uri": "https://localhost:8080/"
        },
        "id": "qYhnKuMuqzoC",
        "outputId": "8d48fde4-bb8b-4313-f20d-e8c7b9097a5e"
      },
      "source": [
        "a=[]\n",
        "b=[1,2,3,4,5,6]\n",
        "print(a)\n",
        "print(b)"
      ],
      "execution_count": 10,
      "outputs": [
        {
          "output_type": "stream",
          "name": "stdout",
          "text": [
            "[]\n",
            "[1, 2, 3, 4, 5, 6]\n"
          ]
        }
      ]
    },
    {
      "cell_type": "code",
      "metadata": {
        "colab": {
          "base_uri": "https://localhost:8080/"
        },
        "id": "oHjFMUXGrJMf",
        "outputId": "bce612eb-4cc1-488b-ce3d-a6b51233e62f"
      },
      "source": [
        "#agregar elementos a un arreglo con append\n",
        "a.append(1)\n",
        "a.append(2)\n",
        "print(a)"
      ],
      "execution_count": 11,
      "outputs": [
        {
          "output_type": "stream",
          "name": "stdout",
          "text": [
            "[1, 2]\n"
          ]
        }
      ]
    },
    {
      "cell_type": "code",
      "metadata": {
        "colab": {
          "base_uri": "https://localhost:8080/"
        },
        "id": "jghS5mUkru7i",
        "outputId": "61d34d80-9b88-407b-d646-f02b4330fa04"
      },
      "source": [
        "a.append(int(input(\"añada elementos al arreglo: \")))\n",
        "print(a)"
      ],
      "execution_count": 12,
      "outputs": [
        {
          "output_type": "stream",
          "name": "stdout",
          "text": [
            "añada elementos al arreglo: 50\n",
            "[1, 2, 50]\n"
          ]
        }
      ]
    },
    {
      "cell_type": "code",
      "metadata": {
        "colab": {
          "base_uri": "https://localhost:8080/"
        },
        "id": "YCKeTmD3sOS_",
        "outputId": "8d886140-0b71-474d-b5d9-4a856730fe90"
      },
      "source": [
        "for i in range(3):\n",
        "  a.append(int(input(\"añada elementos al arreglo: \")))\n",
        "\n",
        "print(a)"
      ],
      "execution_count": 13,
      "outputs": [
        {
          "output_type": "stream",
          "name": "stdout",
          "text": [
            "añada elementos al arreglo: 3\n",
            "añada elementos al arreglo: 6\n",
            "añada elementos al arreglo: 11\n",
            "[1, 2, 50, 3, 6, 11]\n"
          ]
        }
      ]
    },
    {
      "cell_type": "code",
      "metadata": {
        "colab": {
          "base_uri": "https://localhost:8080/"
        },
        "id": "TOmbdaMH18Gq",
        "outputId": "3a162476-a13a-4847-8105-c16e266e5396"
      },
      "source": [
        "i=1\n",
        "while (i<=3):\n",
        "  a.append(int(input(\"añada elementos al arreglo: \")))\n",
        "  i=i+1\n",
        "  \n",
        "print(a)"
      ],
      "execution_count": 14,
      "outputs": [
        {
          "output_type": "stream",
          "name": "stdout",
          "text": [
            "añada elementos al arreglo: 4\n",
            "añada elementos al arreglo: 6\n",
            "añada elementos al arreglo: 8\n",
            "[1, 2, 50, 3, 6, 11, 4, 6, 8]\n"
          ]
        }
      ]
    },
    {
      "cell_type": "markdown",
      "source": [
        "Para unir arreglos, podemos usar extend."
      ],
      "metadata": {
        "id": "W5oSZQuGLmTl"
      }
    },
    {
      "cell_type": "code",
      "metadata": {
        "colab": {
          "base_uri": "https://localhost:8080/"
        },
        "id": "KwcN4ujFt5RH",
        "outputId": "a0748f71-3a7d-4781-fd8b-4193935d90cb"
      },
      "source": [
        "#agregar elementos a un arreglo con extend\n",
        "a.extend(b)\n",
        "print(a)\n",
        "\n",
        "b.extend(a) \n",
        "print(b)"
      ],
      "execution_count": 15,
      "outputs": [
        {
          "output_type": "stream",
          "name": "stdout",
          "text": [
            "[1, 2, 50, 3, 6, 11, 4, 6, 8, 1, 2, 3, 4, 5, 6]\n",
            "[1, 2, 3, 4, 5, 6, 1, 2, 50, 3, 6, 11, 4, 6, 8, 1, 2, 3, 4, 5, 6]\n"
          ]
        }
      ]
    },
    {
      "cell_type": "markdown",
      "source": [
        "Insert nos permite insertar un valor en una posición del arreglo, sin eliminar lo que hay ahí"
      ],
      "metadata": {
        "id": "TbCdb01tLrSd"
      }
    },
    {
      "cell_type": "code",
      "metadata": {
        "colab": {
          "base_uri": "https://localhost:8080/"
        },
        "id": "ucSd4g08uwdX",
        "outputId": "4bf6ed7d-8b4a-43a6-993d-e449fa033b25"
      },
      "source": [
        "#agregar elementos a un arreglo con insert y modificar celda\n",
        "a[0]=7\n",
        "a.insert(1,\"X\")\n",
        "print(a)"
      ],
      "execution_count": 16,
      "outputs": [
        {
          "output_type": "stream",
          "name": "stdout",
          "text": [
            "[7, 'X', 2, 50, 3, 6, 11, 4, 6, 8, 1, 2, 3, 4, 5, 6]\n"
          ]
        }
      ]
    },
    {
      "cell_type": "markdown",
      "source": [
        "Con remove eliminamos el primer hallazgo del valor dado como parametro en la función."
      ],
      "metadata": {
        "id": "8rNfwcLFLzfP"
      }
    },
    {
      "cell_type": "code",
      "metadata": {
        "colab": {
          "base_uri": "https://localhost:8080/"
        },
        "id": "7QFITriqv55j",
        "outputId": "1310ffed-5b6a-49a5-b42c-93832f533e68"
      },
      "source": [
        "#eliminar elementos de un arreglo remove\n",
        "a.remove(\"X\")\n",
        "print(a)"
      ],
      "execution_count": 17,
      "outputs": [
        {
          "output_type": "stream",
          "name": "stdout",
          "text": [
            "[7, 2, 50, 3, 6, 11, 4, 6, 8, 1, 2, 3, 4, 5, 6]\n"
          ]
        }
      ]
    },
    {
      "cell_type": "code",
      "metadata": {
        "colab": {
          "base_uri": "https://localhost:8080/"
        },
        "id": "Q_Kn1nyPwWFr",
        "outputId": "7a27c8cc-4f8d-4eb7-a26e-11577f3b9e7d"
      },
      "source": [
        "#eliminar elementos de un arreglo remove\n",
        "a.remove(2)\n",
        "print(a)"
      ],
      "execution_count": 18,
      "outputs": [
        {
          "output_type": "stream",
          "name": "stdout",
          "text": [
            "[7, 50, 3, 6, 11, 4, 6, 8, 1, 2, 3, 4, 5, 6]\n"
          ]
        }
      ]
    },
    {
      "cell_type": "markdown",
      "source": [
        "Con del, podemos eliminar una celda según su indice."
      ],
      "metadata": {
        "id": "1ShtxjwqMC2T"
      }
    },
    {
      "cell_type": "code",
      "metadata": {
        "colab": {
          "base_uri": "https://localhost:8080/"
        },
        "id": "zOFjXkudwmS6",
        "outputId": "c15a7145-0d91-4f75-9d30-5872cc2b86c9"
      },
      "source": [
        "#eliminar elementos de un arreglo del\n",
        "del a[0]\n",
        "print(a)"
      ],
      "execution_count": 19,
      "outputs": [
        {
          "output_type": "stream",
          "name": "stdout",
          "text": [
            "[50, 3, 6, 11, 4, 6, 8, 1, 2, 3, 4, 5, 6]\n"
          ]
        }
      ]
    },
    {
      "cell_type": "markdown",
      "source": [
        "###Ejemplos"
      ],
      "metadata": {
        "id": "gn_Ir0EVATR0"
      }
    },
    {
      "cell_type": "code",
      "source": [
        "def ingresoNotaValida2(numero):\n",
        "  nota=0\n",
        "  while (nota<1 or nota>7):\n",
        "    try:\n",
        "      print(\"Ingrese su nota n\",numero)\n",
        "      nota=float(input())\n",
        "    except:\n",
        "      print(\"por favor ingrese un valor adecuado\")\n",
        "  return nota"
      ],
      "metadata": {
        "id": "iqbJ3NkgKG26"
      },
      "execution_count": 20,
      "outputs": []
    },
    {
      "cell_type": "code",
      "source": [
        "promedio=0\n",
        "notas=[]\n",
        "for i in range(1,6):\n",
        "  nota=ingresoNotaValida2(i)\n",
        "  notas.append(nota)\n",
        "\n",
        "print(\"sus nota son: \",notas)\n",
        "\n",
        "for nota in notas:\n",
        "  promedio=promedio+nota\n",
        "\n",
        "print(\"su promedio es: \",promedio/5)"
      ],
      "metadata": {
        "colab": {
          "base_uri": "https://localhost:8080/"
        },
        "id": "g_k-8aoOKETp",
        "outputId": "351f1fc7-a3ce-4b2b-99da-b33c3955f0df"
      },
      "execution_count": 21,
      "outputs": [
        {
          "output_type": "stream",
          "name": "stdout",
          "text": [
            "Ingrese su nota n 1\n",
            "9\n",
            "Ingrese su nota n 1\n",
            "6\n",
            "Ingrese su nota n 2\n",
            "5\n",
            "Ingrese su nota n 3\n",
            "3\n",
            "Ingrese su nota n 4\n",
            "ñ\n",
            "por favor ingrese un valor adecuado\n",
            "Ingrese su nota n 4\n",
            "2\n",
            "Ingrese su nota n 5\n",
            "7\n",
            "sus nota son:  [6.0, 5.0, 3.0, 2.0, 7.0]\n",
            "su promedio es:  4.6\n"
          ]
        }
      ]
    },
    {
      "cell_type": "code",
      "source": [
        "promedio=0\n",
        "notas=[]\n",
        "\n",
        "cant_notas=int(input(\"ingrese cantidad de notas: \"))\n",
        "\n",
        "for i in range(1,cant_notas+1):\n",
        "  nota=ingresoNotaValida2(i)\n",
        "  notas.append(nota)\n",
        "  promedio=promedio+nota\n",
        "\n",
        "print(\"sus nota son: \",notas)\n",
        "print(\"su promedio es: \",promedio/cant_notas)"
      ],
      "metadata": {
        "colab": {
          "base_uri": "https://localhost:8080/"
        },
        "id": "ixu2BmF5KIz4",
        "outputId": "91b3f8e5-41a4-4940-a7dc-96a7d6dfb16e"
      },
      "execution_count": 24,
      "outputs": [
        {
          "output_type": "stream",
          "name": "stdout",
          "text": [
            "ingrese cantidad de notas: 3\n",
            "Ingrese su nota n 1\n",
            "9\n",
            "Ingrese su nota n 1\n",
            "5\n",
            "Ingrese su nota n 2\n",
            "ñ\n",
            "por favor ingrese un valor adecuado\n",
            "Ingrese su nota n 2\n",
            "3\n",
            "Ingrese su nota n 3\n",
            "7\n",
            "sus nota son:  [5.0, 3.0, 7.0]\n",
            "su promedio es:  5.0\n"
          ]
        }
      ]
    },
    {
      "cell_type": "markdown",
      "source": [
        "###Ejercicios"
      ],
      "metadata": {
        "id": "C8QhXXKg-WTy"
      }
    },
    {
      "cell_type": "markdown",
      "source": [
        "Crea y usa una función que muestre por pantalla tu nombre, carrera y edad."
      ],
      "metadata": {
        "id": "MXGK7nW4MrJ_"
      }
    },
    {
      "cell_type": "code",
      "source": [],
      "metadata": {
        "id": "hUxAH8ReM0JI"
      },
      "execution_count": null,
      "outputs": []
    },
    {
      "cell_type": "markdown",
      "source": [
        "Crea un arreglo vacio que contendrá tus datos personales"
      ],
      "metadata": {
        "id": "sMbG5wtJM07Q"
      }
    },
    {
      "cell_type": "code",
      "source": [],
      "metadata": {
        "id": "MUO5kQk7M7VR"
      },
      "execution_count": null,
      "outputs": []
    },
    {
      "cell_type": "markdown",
      "source": [
        "Sobre el arreglo creado, añade casillas que contengan tu nombre, carrera y edad"
      ],
      "metadata": {
        "id": "0KyBJ-4sM6dR"
      }
    },
    {
      "cell_type": "code",
      "source": [],
      "metadata": {
        "id": "-g7EV6ERNElc"
      },
      "execution_count": null,
      "outputs": []
    },
    {
      "cell_type": "markdown",
      "source": [
        "Muestra por pantalla el arreglo con los datos para verificar como se ven"
      ],
      "metadata": {
        "id": "ThgXeDsmNH4F"
      }
    },
    {
      "cell_type": "code",
      "source": [],
      "metadata": {
        "id": "TvIP1ihRNNNz"
      },
      "execution_count": null,
      "outputs": []
    },
    {
      "cell_type": "markdown",
      "source": [
        "Crea una función, que reciba como parametros tu nombre y edad, para luego retornar un arreglo que contenga ambos datos en casillas separadas."
      ],
      "metadata": {
        "id": "_cHixk5ZNNxg"
      }
    },
    {
      "cell_type": "code",
      "source": [],
      "metadata": {
        "id": "iawGlucYNcen"
      },
      "execution_count": null,
      "outputs": []
    }
  ]
}