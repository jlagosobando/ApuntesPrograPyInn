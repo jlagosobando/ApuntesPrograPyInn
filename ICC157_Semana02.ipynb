{
  "nbformat": 4,
  "nbformat_minor": 0,
  "metadata": {
    "colab": {
      "provenance": [],
      "collapsed_sections": [],
      "authorship_tag": "ABX9TyMLK2wnbyzPJjEqvyI/jzjV",
      "include_colab_link": true
    },
    "kernelspec": {
      "name": "python3",
      "display_name": "Python 3"
    },
    "language_info": {
      "name": "python"
    }
  },
  "cells": [
    {
      "cell_type": "markdown",
      "metadata": {
        "id": "view-in-github",
        "colab_type": "text"
      },
      "source": [
        "<a href=\"https://colab.research.google.com/github/jlagosobando/ApuntesPrograPyInn/blob/main/ICC157_Semana02.ipynb\" target=\"_parent\"><img src=\"https://colab.research.google.com/assets/colab-badge.svg\" alt=\"Open In Colab\"/></a>"
      ]
    },
    {
      "cell_type": "markdown",
      "source": [
        "<div>\n",
        "<img src=\"https://www.ufro.cl/index.php/normas-corporativas/30-logo-ufro-azul-horizontal/file\" width=\"250\"/>\n",
        "</div>\n",
        "\n",
        "**ICC157 Taller de Programación**\n",
        "\n",
        "Profesor Mg. Juan Lagos O."
      ],
      "metadata": {
        "id": "IkwHKWN2Pz2y"
      }
    },
    {
      "cell_type": "markdown",
      "source": [
        "### Revisión General"
      ],
      "metadata": {
        "id": "bDHWgDY3P46N"
      }
    },
    {
      "cell_type": "markdown",
      "source": [
        "El uso de la función **type** nos entrega el tipo de dato asociado a una variable o valor. \n",
        "Esto es muy útil cuando algo no nos funciona por que los tipos de dato son incompatibles, así podemos ver que tipos de datos están trabajando efectivamente y corregir.\n",
        "\n",
        "A los tipos de datos de lenguaje natural, ahora asociamos nombres técnicos especificos de Python\n",
        "\n",
        "\n",
        "| Lenguaje Natural | Término Técnico | Abreviación |\n",
        "|------------------|-----------------|-------------|\n",
        "| Número Entero    | Integer         | int         |\n",
        "| Número Decimal   | Float           | float       |\n",
        "| Textos           | String          | str         |\n",
        "| Lógicos          | Booleano        | bool        |\n"
      ],
      "metadata": {
        "id": "jd2_hPkTP83y"
      }
    },
    {
      "cell_type": "code",
      "execution_count": null,
      "metadata": {
        "colab": {
          "base_uri": "https://localhost:8080/"
        },
        "id": "IvWq3CsQC08P",
        "outputId": "7da8e13d-2b81-487f-d9ad-7e846f4adf45"
      },
      "outputs": [
        {
          "output_type": "execute_result",
          "data": {
            "text/plain": [
              "int"
            ]
          },
          "metadata": {},
          "execution_count": 3
        }
      ],
      "source": [
        "a=1300\n",
        "type(a)"
      ]
    },
    {
      "cell_type": "code",
      "source": [
        "b=10.3\n",
        "type(b)"
      ],
      "metadata": {
        "colab": {
          "base_uri": "https://localhost:8080/"
        },
        "id": "uEAXEVasEE6Y",
        "outputId": "c8ef2aa7-cd4f-4af0-85f4-430766add3e8"
      },
      "execution_count": null,
      "outputs": [
        {
          "output_type": "execute_result",
          "data": {
            "text/plain": [
              "float"
            ]
          },
          "metadata": {},
          "execution_count": 3
        }
      ]
    },
    {
      "cell_type": "code",
      "source": [
        "c=\"hola\"\n",
        "type(c)"
      ],
      "metadata": {
        "colab": {
          "base_uri": "https://localhost:8080/"
        },
        "id": "hLwV9VYxEWZ8",
        "outputId": "18e65af9-0531-4887-806b-d6040abac747"
      },
      "execution_count": null,
      "outputs": [
        {
          "output_type": "execute_result",
          "data": {
            "text/plain": [
              "str"
            ]
          },
          "metadata": {},
          "execution_count": 4
        }
      ]
    },
    {
      "cell_type": "code",
      "source": [
        "type(True)"
      ],
      "metadata": {
        "colab": {
          "base_uri": "https://localhost:8080/"
        },
        "id": "TEEtcdB_QbtN",
        "outputId": "032fdf3e-8a4c-4b60-f3e1-6b3fc670bfa6"
      },
      "execution_count": null,
      "outputs": [
        {
          "output_type": "execute_result",
          "data": {
            "text/plain": [
              "bool"
            ]
          },
          "metadata": {},
          "execution_count": 2
        }
      ]
    },
    {
      "cell_type": "markdown",
      "source": [
        "Como type trabaja también sobre valores, puede operar recibiendo el resultado de una operación.\n",
        "Aquí además podemos ver algo importante, ante un operador (+) y los operandos (x,y)(g,j), **la operación se define por los tipos de datos**. \n",
        "\n",
        "Así la (+) es suma aritmética cuando los operando son números, y concatenar (unir cadenas de texto) cuando los operando son textos."
      ],
      "metadata": {
        "id": "jYXR9fEPRSWq"
      }
    },
    {
      "cell_type": "code",
      "source": [
        "x=4\n",
        "y=5\n",
        "print(x+y)\n",
        "type(x+y)"
      ],
      "metadata": {
        "colab": {
          "base_uri": "https://localhost:8080/"
        },
        "id": "AOifUDv_Ee_M",
        "outputId": "057944ff-622a-4074-8621-bf5548f86a8a"
      },
      "execution_count": null,
      "outputs": [
        {
          "output_type": "stream",
          "name": "stdout",
          "text": [
            "9\n"
          ]
        },
        {
          "output_type": "execute_result",
          "data": {
            "text/plain": [
              "int"
            ]
          },
          "metadata": {},
          "execution_count": 4
        }
      ]
    },
    {
      "cell_type": "code",
      "source": [
        "g=\"hol\"\n",
        "j=\"a\"\n",
        "print(g+j)"
      ],
      "metadata": {
        "colab": {
          "base_uri": "https://localhost:8080/"
        },
        "id": "WmKmUJv0FT6D",
        "outputId": "e2e300c6-bd43-4a0a-de88-fa3b183a34c6"
      },
      "execution_count": null,
      "outputs": [
        {
          "output_type": "stream",
          "name": "stdout",
          "text": [
            "hola\n"
          ]
        }
      ]
    },
    {
      "cell_type": "markdown",
      "source": [
        "#### Input"
      ],
      "metadata": {
        "id": "BCoQ8SIfSQIg"
      }
    },
    {
      "cell_type": "markdown",
      "source": [
        "Pra que una variable adquiera valor, usamos el simbolo (=) y el valor, operación o función que le otorgará el contenido.\n",
        "\n",
        "Siempre se escribe con la sintaxis de **variable = valor**"
      ],
      "metadata": {
        "id": "bkiWdSR5jdZC"
      }
    },
    {
      "cell_type": "markdown",
      "source": [
        "Revisa lo siguientes bloques, donde se ingresó por teclado un número entero.\n",
        "¿Qué pasó con el tipo de dato? ¿Te parece bien?\n",
        "\n",
        "Reintenta ingresando otro entero o decimal."
      ],
      "metadata": {
        "id": "GgqYrYsASLV3"
      }
    },
    {
      "cell_type": "code",
      "source": [
        "variable=input()"
      ],
      "metadata": {
        "colab": {
          "base_uri": "https://localhost:8080/"
        },
        "id": "t7h7e33Zjc5W",
        "outputId": "0f8f82b1-d6c2-461f-cc3e-a8d788155276"
      },
      "execution_count": null,
      "outputs": [
        {
          "name": "stdout",
          "output_type": "stream",
          "text": [
            "7\n"
          ]
        }
      ]
    },
    {
      "cell_type": "code",
      "source": [
        "print(variable)\n",
        "type(variable)"
      ],
      "metadata": {
        "colab": {
          "base_uri": "https://localhost:8080/"
        },
        "id": "SVhYO9fukCBL",
        "outputId": "20057fef-7a30-48c0-95e6-491effd4d986"
      },
      "execution_count": null,
      "outputs": [
        {
          "output_type": "stream",
          "name": "stdout",
          "text": [
            "7\n"
          ]
        },
        {
          "output_type": "execute_result",
          "data": {
            "text/plain": [
              "str"
            ]
          },
          "metadata": {},
          "execution_count": 8
        }
      ]
    },
    {
      "cell_type": "markdown",
      "source": [
        "Lo anterior ocurre ya que el input() siempre entrega un valor de Texto (String, str) por tanto si lo queremos usar como entero, debemos hacer como lo siguiente:"
      ],
      "metadata": {
        "id": "AQg7_-UTTqHD"
      }
    },
    {
      "cell_type": "code",
      "source": [
        "variable=int(input())\n",
        "type(variable)"
      ],
      "metadata": {
        "colab": {
          "base_uri": "https://localhost:8080/"
        },
        "id": "6wNXZEltFpve",
        "outputId": "9f175ad8-362f-4863-969c-5f1737161165"
      },
      "execution_count": null,
      "outputs": [
        {
          "name": "stdout",
          "output_type": "stream",
          "text": [
            "5\n"
          ]
        },
        {
          "output_type": "execute_result",
          "data": {
            "text/plain": [
              "int"
            ]
          },
          "metadata": {},
          "execution_count": 20
        }
      ]
    },
    {
      "cell_type": "markdown",
      "source": [
        "¿Y si queremos trabajar con decimales? Usamos float para forzar el dato.\n",
        "Revisa en la siguiente terminal para que no te confundas:\n",
        "\n",
        "\n",
        "\n",
        "*   10 es lo que se ingresó por teclado\n",
        "*   10.0 es como se guardó, dandole forma decimal\n",
        "*   float es el tipo de dato que tiene la variable"
      ],
      "metadata": {
        "id": "dxcDZ8wJT-Yc"
      }
    },
    {
      "cell_type": "code",
      "source": [
        "k=float(input())\n",
        "print(k)\n",
        "type(k)"
      ],
      "metadata": {
        "colab": {
          "base_uri": "https://localhost:8080/"
        },
        "id": "c2BIjWUFHfpu",
        "outputId": "da7d5fda-0530-49d5-af73-ab8dae493c37"
      },
      "execution_count": null,
      "outputs": [
        {
          "output_type": "stream",
          "name": "stdout",
          "text": [
            "10\n",
            "10.0\n"
          ]
        },
        {
          "output_type": "execute_result",
          "data": {
            "text/plain": [
              "float"
            ]
          },
          "metadata": {},
          "execution_count": 10
        }
      ]
    },
    {
      "cell_type": "markdown",
      "source": [
        "#### Ejercicios del día"
      ],
      "metadata": {
        "id": "c9nE8FhEJS8R"
      }
    },
    {
      "cell_type": "markdown",
      "source": [
        "Ejercicio 1 : Suma 2 números ingresados por el usuario.\n",
        "Prueba los siguientes casos:\n",
        "*  El usuario ingresa números enteros.\n",
        "*  El usuario ingresa números reales."
      ],
      "metadata": {
        "id": "cldwMegzU2Np"
      }
    },
    {
      "cell_type": "code",
      "source": [
        "# El usuario ingresa números enteros.\n",
        "\n",
        "num1=int(input())\n",
        "num2=int(input())\n",
        "print(num1+num2)"
      ],
      "metadata": {
        "colab": {
          "base_uri": "https://localhost:8080/"
        },
        "id": "WjY6_IjfJRYi",
        "outputId": "fc3ea429-56a4-4e4e-9a56-2bd1c6c29ac9"
      },
      "execution_count": null,
      "outputs": [
        {
          "output_type": "stream",
          "name": "stdout",
          "text": [
            "10\n",
            "22\n",
            "32\n"
          ]
        }
      ]
    },
    {
      "cell_type": "code",
      "source": [
        "# El usuario ingresa números reales.\n",
        "print(\"ingrese su primer num a sumar\")\n",
        "num1=float(input())\n",
        "num2=float(input(\"ingrese su segundo num a sumar \"))\n",
        "print(\"resultado:\",num1+num2)"
      ],
      "metadata": {
        "colab": {
          "base_uri": "https://localhost:8080/"
        },
        "id": "5zok8XCiKtCJ",
        "outputId": "a704d4d9-6848-4811-d4f6-8849ca7c17e9"
      },
      "execution_count": null,
      "outputs": [
        {
          "output_type": "stream",
          "name": "stdout",
          "text": [
            "ingrese su primer num a sumar\n",
            "6\n",
            "ingrese su segundo num a sumar 7\n",
            "resultado: 13.0\n"
          ]
        }
      ]
    },
    {
      "cell_type": "markdown",
      "source": [
        "Ejercicio 2: Crea un programa que permita calcular el IVA (19%) a un producto y mostrar:\n",
        "\n",
        "* Valor neto (valor sin incluir IVA)\n",
        "* Valor IVA\n",
        "* Valor total"
      ],
      "metadata": {
        "id": "I4DYRDYmVNsg"
      }
    },
    {
      "cell_type": "code",
      "source": [
        "valor_producto=int(input(\"ingrese el valor total de su producto \"))\n",
        "\n",
        "iva=(valor_producto*19)/119\n",
        "valor_neto=valor_producto-iva\n",
        "\n",
        "print(\"el valor neto es \",valor_neto)\n",
        "print(\"el iva es \",iva)"
      ],
      "metadata": {
        "colab": {
          "base_uri": "https://localhost:8080/"
        },
        "id": "H0C-eOIcMAHP",
        "outputId": "caefa13e-9d68-4da0-86f1-c9319bfeef44"
      },
      "execution_count": 3,
      "outputs": [
        {
          "output_type": "stream",
          "name": "stdout",
          "text": [
            "ingrese el valor total de su producto 119\n",
            "el valor neto es  100.0\n",
            "el iva es  19.0\n"
          ]
        }
      ]
    },
    {
      "cell_type": "markdown",
      "source": [
        "Ejercicio 3: Reordenar el ejercicio 1 para que:\n",
        "*  Si el el primer número es válido, pida el segundo, sino se avisa que no sirve y termina el programa\n",
        "*  Si el segundo número es valido, se realiza e informa la suma. Sino, se avisa y termina el programa."
      ],
      "metadata": {
        "id": "Rkdef40omIzV"
      }
    },
    {
      "cell_type": "code",
      "source": [
        "# El usuario ingresa números reales.\n",
        "print(\"ingrese su primer num a sumar\")\n",
        "\n",
        "num1=float(input())\n",
        "\n",
        "if (num1>0):\n",
        "  num2=float(input(\"ingrese su segundo num a sumar \"))\n",
        "  if (num2>0):\n",
        "    print(\"resultado:\",num1+num2)\n",
        "  else:\n",
        "    print(\"Su 2do num no cumple el criterio\")\n",
        "else:\n",
        "  print(\"Su 1er num no cumple el criterio\")"
      ],
      "metadata": {
        "colab": {
          "base_uri": "https://localhost:8080/"
        },
        "id": "lfuZBpKIFYia",
        "outputId": "66629dcd-fdc5-491f-e64c-b34b22e055f0"
      },
      "execution_count": null,
      "outputs": [
        {
          "output_type": "stream",
          "name": "stdout",
          "text": [
            "ingrese su primer num a sumar\n",
            "-6\n",
            "Su 1er num no cumple el criterio\n"
          ]
        }
      ]
    },
    {
      "cell_type": "markdown",
      "source": [
        "Ejercicio 4: Clasificar si un número es positivo, negativo o neutro."
      ],
      "metadata": {
        "id": "dN83X8hEmb6C"
      }
    },
    {
      "cell_type": "code",
      "source": [
        "#clasificar num sg positivo, negativo, neutro\n",
        "#acá se hacen las tres preguntas\n",
        "\n",
        "n=float(input(\"ingrese el num a evaluar \"))\n",
        "\n",
        "#si condición entonces acción\n",
        "\n",
        "if(n>0):\n",
        "  res=\"positivo\"  \n",
        "\n",
        "if(n<0):\n",
        "  res=\"negativo\"\n",
        "\n",
        "if(n==0):\n",
        "  res=\"neutro\"\n",
        "\n",
        "print(\"su num es\",res)  "
      ],
      "metadata": {
        "colab": {
          "base_uri": "https://localhost:8080/"
        },
        "id": "RzDGw0cSJgm1",
        "outputId": "c829901d-6623-43ab-8e84-30b9e31573af"
      },
      "execution_count": 4,
      "outputs": [
        {
          "output_type": "stream",
          "name": "stdout",
          "text": [
            "ingrese el num a evaluar 10\n",
            "su num es positivo\n"
          ]
        }
      ]
    },
    {
      "cell_type": "code",
      "source": [
        "#clasificar num sg positivo, negativo, neutro\n",
        "#acá se hacen las preguntas solo necesarias\n",
        "\n",
        "n=float(input(\"ingrese el num a evaluar \"))\n",
        "\n",
        "if(n>0):\n",
        "  res=\"positivo\"\n",
        "else:\n",
        "  if(n<0):\n",
        "    res=\"negativo\"\n",
        "  else:\n",
        "    res=\"neutro\"  \n",
        "\n",
        "print(\"su num es\",res) "
      ],
      "metadata": {
        "colab": {
          "base_uri": "https://localhost:8080/"
        },
        "id": "yzCMGhVwLyth",
        "outputId": "8ee27197-39ea-4779-ec71-9fe6d6971be7"
      },
      "execution_count": 5,
      "outputs": [
        {
          "output_type": "stream",
          "name": "stdout",
          "text": [
            "ingrese el num a evaluar 546\n",
            "su num es positivo\n"
          ]
        }
      ]
    },
    {
      "cell_type": "code",
      "source": [
        "#clasificar num sg positivo, negativo, neutro\n",
        "#acá se hacen las preguntas solo necesarias\n",
        "\n",
        "n=float(input(\"ingrese el num a evaluar \"))\n",
        "\n",
        "if(n>0):\n",
        "  res=\"positivo\"\n",
        "elif(n<0):\n",
        "  res=\"negativo\"\n",
        "else:\n",
        "  res=\"neutro\"  \n",
        "\n",
        "print(\"su num es\",res) "
      ],
      "metadata": {
        "colab": {
          "base_uri": "https://localhost:8080/"
        },
        "id": "mn8uy-3kNSOT",
        "outputId": "d3171f45-8bfb-461d-ceda-cb9b68a219a6"
      },
      "execution_count": 7,
      "outputs": [
        {
          "output_type": "stream",
          "name": "stdout",
          "text": [
            "ingrese el num a evaluar 0\n",
            "su num es neutro\n"
          ]
        }
      ]
    },
    {
      "cell_type": "code",
      "source": [
        "# promediar 3 notas\n",
        "\n",
        "nota1=float(input(\"ingrese su nota n1 \"))\n",
        "while(nota1<1 or nota1>7):\n",
        "  nota1=float(input(\"ingrese su nota  n1 nuevamente \"))\n",
        "\n",
        "nota2=float(input(\"ingrese su nota n2 \"))\n",
        "while(nota2<1 or nota2>7):\n",
        "  nota2=float(input(\"ingrese su nota n2 nuevamente \"))\n",
        "\n",
        "nota3=float(input(\"ingrese su nota n3 \"))\n",
        "while(nota3<1 or nota3>7):\n",
        "  nota3=float(input(\"ingrese su nota n3 nuevamente \"))  \n",
        "\n",
        "promedio=(nota1+nota2+nota3)/3  \n",
        "print(\"su promedio fue\",promedio)"
      ],
      "metadata": {
        "colab": {
          "base_uri": "https://localhost:8080/"
        },
        "id": "d1yAPaz9O21i",
        "outputId": "9e6f1593-bce4-412a-a79c-95375972f07f"
      },
      "execution_count": null,
      "outputs": [
        {
          "output_type": "stream",
          "name": "stdout",
          "text": [
            "ingrese su nota n1 9\n",
            "ingrese su nota  n1 nuevamente -6\n",
            "ingrese su nota  n1 nuevamente 5\n",
            "ingrese su nota n2 3\n",
            "ingrese su nota n3 1\n",
            "su promedio fue 3.0\n"
          ]
        }
      ]
    }
  ]
}