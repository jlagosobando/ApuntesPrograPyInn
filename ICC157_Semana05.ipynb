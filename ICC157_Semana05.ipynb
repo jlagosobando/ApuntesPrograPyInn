{
  "nbformat": 4,
  "nbformat_minor": 0,
  "metadata": {
    "colab": {
      "provenance": [],
      "collapsed_sections": [],
      "toc_visible": true,
      "authorship_tag": "ABX9TyNLjt6+P1lqakEt/SwnDoq3",
      "include_colab_link": true
    },
    "kernelspec": {
      "name": "python3",
      "display_name": "Python 3"
    },
    "language_info": {
      "name": "python"
    }
  },
  "cells": [
    {
      "cell_type": "markdown",
      "metadata": {
        "id": "view-in-github",
        "colab_type": "text"
      },
      "source": [
        "<a href=\"https://colab.research.google.com/github/jlagosobando/ApuntesPrograPyInn/blob/main/ICC157_Semana05.ipynb\" target=\"_parent\"><img src=\"https://colab.research.google.com/assets/colab-badge.svg\" alt=\"Open In Colab\"/></a>"
      ]
    },
    {
      "cell_type": "markdown",
      "source": [
        "<div>\n",
        "<img src=\"https://www.ufro.cl/index.php/normas-corporativas/30-logo-ufro-azul-horizontal/file\" width=\"250\"/>\n",
        "</div>\n",
        "\n",
        "**ICC157 Taller de Programación**\n",
        "\n",
        "Profesor Mg. Juan Lagos O."
      ],
      "metadata": {
        "id": "IkwHKWN2Pz2y"
      }
    },
    {
      "cell_type": "markdown",
      "source": [
        "**Función**: Encapsulamiento de un comportamiento, proceso o algoritmo bajo un nombre que permite el uso/llamado del mismo."
      ],
      "metadata": {
        "id": "jd2_hPkTP83y"
      }
    },
    {
      "cell_type": "markdown",
      "source": [
        "### Funciones sin parámetros, sin retorno\n",
        "Son funciones que no necesitan un valor dado (parámetro) para funcionar.\n",
        "\n",
        "Estas funciones llevan a cabo su comportamiento pero no entregan un dato que se pueda aprovechar o usar (no retornan algo)\n"
      ],
      "metadata": {
        "id": "TyEHEPqwoOYk"
      }
    },
    {
      "cell_type": "code",
      "source": [
        "#aquí se define o crea la función\n",
        "def Saludar():\n",
        "  print(\"Hola, soy una función\")"
      ],
      "metadata": {
        "id": "HIDsEvxLo5ov"
      },
      "execution_count": 22,
      "outputs": []
    },
    {
      "cell_type": "code",
      "source": [
        "#acá se usa o invoca la función\n",
        "Saludar()"
      ],
      "metadata": {
        "colab": {
          "base_uri": "https://localhost:8080/"
        },
        "id": "yqVnIVYcC6DQ",
        "outputId": "c05318a3-6e26-4620-b1c6-eceadf851b9f"
      },
      "execution_count": 23,
      "outputs": [
        {
          "output_type": "stream",
          "name": "stdout",
          "text": [
            "Hola, soy una función\n"
          ]
        }
      ]
    },
    {
      "cell_type": "markdown",
      "source": [
        "### Funciones con parámetros, sin retorno\n",
        "Son funciones que necesitan algún valor dado (parámetro) para funcionar.\n",
        "\n",
        "Estas funciones llevan a cabo su comportamiento pero no entregan un dato que se pueda aprovechar o usar (no retornan algo)"
      ],
      "metadata": {
        "id": "Mz5dGs6VoOVy"
      }
    },
    {
      "cell_type": "code",
      "source": [
        "#aquí se define o creo la función\n",
        "def Saludar2(nombre):\n",
        "  print(\"Hola, mi nombre es\",nombre)"
      ],
      "metadata": {
        "id": "OGMUEqoTo616"
      },
      "execution_count": 24,
      "outputs": []
    },
    {
      "cell_type": "code",
      "source": [
        "#acá se usa o invoca la función\n",
        "Saludar2(\"Juan\")\n",
        "nombre_dado=\"Agustin\"\n",
        "Saludar2(nombre_dado)"
      ],
      "metadata": {
        "colab": {
          "base_uri": "https://localhost:8080/"
        },
        "id": "PdnqgTGGDSAK",
        "outputId": "a8ce0f64-e113-44ac-8bf3-8eb4c1b63cfc"
      },
      "execution_count": 25,
      "outputs": [
        {
          "output_type": "stream",
          "name": "stdout",
          "text": [
            "Hola, mi nombre es Juan\n",
            "Hola, mi nombre es Agustin\n"
          ]
        }
      ]
    },
    {
      "cell_type": "markdown",
      "source": [
        "### Funciones sin parámetros, con retorno\n",
        "Son funciones que no necesitan algún valor dado (parámetro) para funcionar.\n",
        "\n",
        "Estas funciones llevan a cabo su comportamiento entregando un dato que se puede aprovechar o usar. En este caso entregan una constante G que puede ser usada o asignada a otra variable."
      ],
      "metadata": {
        "id": "UDuUHROwoOTG"
      }
    },
    {
      "cell_type": "code",
      "source": [
        "#aquí se define o creo la función\n",
        "def cons_G():\n",
        "  return 9.8"
      ],
      "metadata": {
        "id": "WL37wsK7EpT4"
      },
      "execution_count": 26,
      "outputs": []
    },
    {
      "cell_type": "code",
      "source": [
        "#acá se usa o invoca la función\n",
        "g=cons_G()\n",
        "print(g)"
      ],
      "metadata": {
        "colab": {
          "base_uri": "https://localhost:8080/"
        },
        "id": "Doq4E2BaEpKr",
        "outputId": "219a0c33-16b4-4b0e-d418-c5e1722750a0"
      },
      "execution_count": 27,
      "outputs": [
        {
          "output_type": "stream",
          "name": "stdout",
          "text": [
            "9.8\n"
          ]
        }
      ]
    },
    {
      "cell_type": "markdown",
      "source": [
        "### Funciones con parámetros, con retorno\n",
        "Son funciones que necesitan algún valor dado (parámetro) para funcionar.\n",
        "\n",
        "Estas funciones llevan a cabo su comportamiento entregando un dato que se puede aprovechar o usar. En este caso entregan el contenido de la variable frase, que puede ser usado o asignado a otra variable."
      ],
      "metadata": {
        "id": "6A1aDP_7EbTp"
      }
    },
    {
      "cell_type": "code",
      "source": [
        "#aquí se define o creo la función\n",
        "def Saludar3(nombre):\n",
        "  frase=\"Hello, my name is \"+nombre  \n",
        "  return frase  "
      ],
      "metadata": {
        "id": "VZqah_IApHos"
      },
      "execution_count": 28,
      "outputs": []
    },
    {
      "cell_type": "code",
      "source": [
        "#acá se usa o invoca la función\n",
        "saludo_a_Luisa=Saludar3(\"Luisa\")\n",
        "print(saludo_a_Luisa)"
      ],
      "metadata": {
        "colab": {
          "base_uri": "https://localhost:8080/"
        },
        "id": "xOkUkbE9Dn-X",
        "outputId": "f114750e-b4f4-489f-fd25-8ccb8d0f9f79"
      },
      "execution_count": 29,
      "outputs": [
        {
          "output_type": "stream",
          "name": "stdout",
          "text": [
            "Hello, my name is Luisa\n"
          ]
        }
      ]
    },
    {
      "cell_type": "markdown",
      "source": [
        "### Ejemplos"
      ],
      "metadata": {
        "id": "vJaZBiIdFRn7"
      }
    },
    {
      "cell_type": "code",
      "source": [
        "def Sumar(a,b):\n",
        "  resultado=a+b\n",
        "  return resultado"
      ],
      "metadata": {
        "id": "1GXNAzMiFRMq"
      },
      "execution_count": 30,
      "outputs": []
    },
    {
      "cell_type": "code",
      "source": [
        "resSuma=Sumar(60,40)\n",
        "print(resSuma)"
      ],
      "metadata": {
        "id": "Lyjfl_pju7NG",
        "colab": {
          "base_uri": "https://localhost:8080/"
        },
        "outputId": "6d9f47b2-c5e3-42f2-f2a1-f318b1ffd434"
      },
      "execution_count": 31,
      "outputs": [
        {
          "output_type": "stream",
          "name": "stdout",
          "text": [
            "100\n"
          ]
        }
      ]
    },
    {
      "cell_type": "code",
      "source": [
        "a=Sumar(5,6)\n",
        "b=Sumar(8,10)\n",
        "c=Sumar(a,b)\n",
        "\n",
        "print(c)"
      ],
      "metadata": {
        "colab": {
          "base_uri": "https://localhost:8080/"
        },
        "id": "YiLRXYKfFrCx",
        "outputId": "e0a306a4-9272-490f-806d-8a8df0f2d7e6"
      },
      "execution_count": 32,
      "outputs": [
        {
          "output_type": "stream",
          "name": "stdout",
          "text": [
            "29\n"
          ]
        }
      ]
    },
    {
      "cell_type": "code",
      "source": [
        "resSuma=Sumar(Sumar(5,6),Sumar(8,10))\n",
        "print(resSuma)"
      ],
      "metadata": {
        "colab": {
          "base_uri": "https://localhost:8080/"
        },
        "id": "N3OH5meqFjVM",
        "outputId": "836d13da-4bbb-4e2a-dea0-17249a0b261a"
      },
      "execution_count": 33,
      "outputs": [
        {
          "output_type": "stream",
          "name": "stdout",
          "text": [
            "29\n"
          ]
        }
      ]
    },
    {
      "cell_type": "code",
      "source": [
        "def ingresoNotaValida():\n",
        "  nota=0\n",
        "  while (nota<1 or nota>7):\n",
        "    print(\"ingrese un valor entre 1 y 7\")\n",
        "    try:\n",
        "      nota=float(input())\n",
        "    except:\n",
        "      print(\"por favor ingrese un valor adecuado\")\n",
        "  return nota"
      ],
      "metadata": {
        "id": "SJHHf7B6KxIQ"
      },
      "execution_count": 34,
      "outputs": []
    },
    {
      "cell_type": "code",
      "source": [
        "nota1=ingresoNotaValida()\n",
        "nota2=ingresoNotaValida()\n",
        "nota3=ingresoNotaValida()\n",
        "nota4=ingresoNotaValida()\n",
        "nota5=ingresoNotaValida()"
      ],
      "metadata": {
        "colab": {
          "base_uri": "https://localhost:8080/"
        },
        "id": "Lvv1liw7F75R",
        "outputId": "06aac467-a625-47bd-e9aa-14abd71f3095"
      },
      "execution_count": 35,
      "outputs": [
        {
          "name": "stdout",
          "output_type": "stream",
          "text": [
            "ingrese un valor entre 1 y 7\n",
            "1\n",
            "ingrese un valor entre 1 y 7\n",
            "6\n",
            "ingrese un valor entre 1 y 7\n",
            "5\n",
            "ingrese un valor entre 1 y 7\n",
            "9\n",
            "ingrese un valor entre 1 y 7\n",
            "10\n",
            "ingrese un valor entre 1 y 7\n",
            "6\n",
            "ingrese un valor entre 1 y 7\n",
            "4\n"
          ]
        }
      ]
    },
    {
      "cell_type": "code",
      "source": [
        "def ingresoNotaValida2(numero):\n",
        "  nota=0\n",
        "  while (nota<1 or nota>7):\n",
        "    try:\n",
        "      print(\"Ingrese su nota n\",numero)\n",
        "      nota=float(input())\n",
        "    except:\n",
        "      print(\"por favor ingrese un valor adecuado\")\n",
        "  return nota"
      ],
      "metadata": {
        "id": "BMay8Q_RGQDC"
      },
      "execution_count": 36,
      "outputs": []
    },
    {
      "cell_type": "code",
      "source": [
        "nota1=ingresoNotaValida2(1)\n",
        "nota2=ingresoNotaValida2(2)\n",
        "nota3=ingresoNotaValida2(3)\n",
        "nota4=ingresoNotaValida2(4)\n",
        "nota5=ingresoNotaValida2(5)"
      ],
      "metadata": {
        "colab": {
          "base_uri": "https://localhost:8080/"
        },
        "id": "Qs-hM6RoGR57",
        "outputId": "29283495-4b0a-4ad3-9948-8a448fc8ebb8"
      },
      "execution_count": 37,
      "outputs": [
        {
          "name": "stdout",
          "output_type": "stream",
          "text": [
            "Ingrese su nota n 1\n",
            "6\n",
            "Ingrese su nota n 2\n",
            "10\n",
            "Ingrese su nota n 2\n",
            "2\n",
            "Ingrese su nota n 3\n",
            "1\n",
            "Ingrese su nota n 4\n",
            "17\n",
            "Ingrese su nota n 4\n",
            "7\n",
            "Ingrese su nota n 5\n",
            "0\n",
            "Ingrese su nota n 5\n",
            "1\n"
          ]
        }
      ]
    }
  ]
}