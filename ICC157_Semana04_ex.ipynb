{
  "nbformat": 4,
  "nbformat_minor": 0,
  "metadata": {
    "colab": {
      "provenance": [],
      "collapsed_sections": [
        "9q5GRsmS4JW_",
        "lGvuosTX4qP3"
      ],
      "include_colab_link": true
    },
    "kernelspec": {
      "name": "python3",
      "display_name": "Python 3"
    },
    "language_info": {
      "name": "python"
    }
  },
  "cells": [
    {
      "cell_type": "markdown",
      "metadata": {
        "id": "view-in-github",
        "colab_type": "text"
      },
      "source": [
        "<a href=\"https://colab.research.google.com/github/jlagosobando/ApuntesPrograPyInn/blob/main/ICC157_Semana04_ex.ipynb\" target=\"_parent\"><img src=\"https://colab.research.google.com/assets/colab-badge.svg\" alt=\"Open In Colab\"/></a>"
      ]
    },
    {
      "cell_type": "markdown",
      "source": [
        "<div>\n",
        "<img src=\"https://www.ufro.cl/index.php/normas-corporativas/30-logo-ufro-azul-horizontal/file\" width=\"250\"/>\n",
        "</div>\n",
        "\n",
        "**ICC157 Taller de Programación**\n",
        "\n",
        "Profesor Mg. Juan Lagos O."
      ],
      "metadata": {
        "id": "IkwHKWN2Pz2y"
      }
    },
    {
      "cell_type": "markdown",
      "source": [
        "Ejercicios propuestos para antes y después de la evaluación 1.\n",
        "Se considerará el desarrollo (o intento) de este notebook como bono para la evaluación 1 en su parte práctica.\n",
        "\n",
        "Utilice todos los recursos que conoce hasta hoy en el ramo.\n",
        "\n",
        "\n",
        "\n"
      ],
      "metadata": {
        "id": "jd2_hPkTP83y"
      }
    },
    {
      "cell_type": "markdown",
      "source": [
        "####Ejercicio 1\n",
        "\n",
        "Clasificar instrumentos de cuerda según su tamaño y cantidad de cuerdas del mismo. Si para algún caso la información fuese incompleta o insuficiente para clasificar, el programa debe así indicarlo.\n",
        "\n",
        "* Las guitarras clasicas solo tienen 6 cuerdas.\n",
        "* Las guitarras eléctricas suelen tener entre 6 y 10 cuerdas.\n",
        "* Los bajos eléctricos tienen entre 4 y 6 cuerdas.\n",
        "* Violin y Cello tienen 4 cuerdas.\n",
        "* El violin mide máximo 60 cms.\n",
        "* El cello entre 100 y 120 cms.\n",
        "* Las guitarras miden maximo 100 cms.\n",
        "* Los bajos electricos miden 120 cms o más."
      ],
      "metadata": {
        "id": "9q5GRsmS4JW_"
      }
    },
    {
      "cell_type": "code",
      "source": [],
      "metadata": {
        "id": "LXvBmBdT40ns"
      },
      "execution_count": null,
      "outputs": []
    },
    {
      "cell_type": "markdown",
      "source": [
        "####Ejercicio 2\n",
        "Clasifique vehiculos a través de una reducción de caracteristicas, quedandonos solo con la cantidad de puertas y neumaticos para evaluar.\n",
        "\n",
        "Consideraremos puertas las que sirven para conductor, pasajeros y portamaletas. De existir, no consideraremos puertas al interior de vehiculo o para fines distintos a los señalados.\n",
        "\n",
        "Considere que hablamos de neumaticos y no ruedas. Por ej. para vehiculos de gran peso, esto se considera como 2 neumaticos:\n",
        "\n",
        "<div>\n",
        "<img src=\"https://www.fuso.com.pe/blog/wp-content/uploads/2019/08/fuso-presion-neumaticos-camion-de-carga-pesada.jpg\" width=\"250\"/>\n",
        "</div>\n",
        "\n",
        "Si para algún caso la información fuese incompleta o insuficiente para clasificar, el programa debe así indicarlo.\n",
        "\n",
        "* Los autos tienen entre 3 y 5 puertas.\n",
        "* Los autos solo tienen 4 neumaticos.\n",
        "* Las camionetas tienen entre 2 y 4 puertas.\n",
        "* Las camionetas tienen entre 4 y 6 neumaticos.\n",
        "* Los microbuses suelen tener entre 2 y 3 puertas.\n",
        "* Los microbuses suelen tener 6 neumaticos.\n",
        "* Los buses suelen tener 2 puertas y minimo 10 neumaticos.\n"
      ],
      "metadata": {
        "id": "lGvuosTX4qP3"
      }
    },
    {
      "cell_type": "code",
      "source": [],
      "metadata": {
        "id": "FSlozU-x4I8c"
      },
      "execution_count": null,
      "outputs": []
    },
    {
      "cell_type": "markdown",
      "source": [
        "####Ejercicio 3\n",
        "\n",
        "Se está planificando la construcción de un edificio inspirado en las pirámides. Para eso ha decidido que una de las caras del edificio sea de vidrio y siga el patrón de la imagen (1, 2 y 3 pisos).\n",
        "\n",
        "<div>\n",
        "<img src=\"https://drive.google.com/uc?export=view&id=1m77sNprvymXL9k2HZmkLfIednEmx68Ta\" width=\"350\"/>\n",
        "</div>\n",
        "\n",
        "Como no han decidido aún cuantos pisos tendrá, solo saben que cada bloque triangular de vidrio será un triángulo equilátero de 5mts de lado.\n",
        "\n",
        "Diseñe un algoritmo que, para dada la cantidad de pisos, entregue la cantidad de bloques de vidrio necesarios y en ancho del edificio en su base.\n"
      ],
      "metadata": {
        "id": "F87go30S6C9D"
      }
    },
    {
      "cell_type": "code",
      "source": [],
      "metadata": {
        "id": "7C3gkq2q4oRQ"
      },
      "execution_count": null,
      "outputs": []
    }
  ]
}