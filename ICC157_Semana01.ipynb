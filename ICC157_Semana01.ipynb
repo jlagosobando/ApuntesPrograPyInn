{
  "nbformat": 4,
  "nbformat_minor": 0,
  "metadata": {
    "colab": {
      "name": "ICC157-Semana01.ipynb",
      "provenance": [],
      "toc_visible": true,
      "collapsed_sections": [
        "rIGZCmoOpUUm",
        "HSzwfieluXgm",
        "oWCYfzbJuuDk",
        "dcpePVI81_AG",
        "Z0-DDrhCxdkO"
      ],
      "authorship_tag": "ABX9TyM/y5odWUmEf3BuW961grz7",
      "include_colab_link": true
    },
    "kernelspec": {
      "name": "python3",
      "display_name": "Python 3"
    },
    "language_info": {
      "name": "python"
    }
  },
  "cells": [
    {
      "cell_type": "markdown",
      "metadata": {
        "id": "view-in-github",
        "colab_type": "text"
      },
      "source": [
        "<a href=\"https://colab.research.google.com/github/jlagosobando/ApuntesPrograPyInn/blob/main/ICC157_Semana01.ipynb\" target=\"_parent\"><img src=\"https://colab.research.google.com/assets/colab-badge.svg\" alt=\"Open In Colab\"/></a>"
      ]
    },
    {
      "cell_type": "markdown",
      "source": [
        "<div>\n",
        "<img src=\"https://www.ufro.cl/index.php/normas-corporativas/30-logo-ufro-azul-horizontal/file\" width=\"250\"/>\n",
        "</div>\n",
        "\n",
        "**ICC157 Taller de Programación**\n",
        "\n",
        "Profesor Mg. Juan Lagos O."
      ],
      "metadata": {
        "id": "a63KnQR-nB-x"
      }
    },
    {
      "cell_type": "markdown",
      "source": [
        "### Definiciones Iniciales"
      ],
      "metadata": {
        "id": "rIGZCmoOpUUm"
      }
    },
    {
      "cell_type": "markdown",
      "source": [
        "#### Algoritmo"
      ],
      "metadata": {
        "id": "HSzwfieluXgm"
      }
    },
    {
      "cell_type": "markdown",
      "source": [
        "<div>\n",
        "<img src=\"https://drive.google.com/uc?export=view&id=1NbtPg1EpLFXZY3ALaJcctfxGkzHgDARd\" width=\"350\"/>\n",
        "</div>\n",
        "\n",
        "*   Secuencia de pasos lógica\n",
        "*   Es finito \n",
        "*   Debe tener entrada de información y salida\n",
        "*   Tiene un proceso\n",
        "*   Es general\n",
        "\n"
      ],
      "metadata": {
        "id": "ii0SpL2gsLl8"
      }
    },
    {
      "cell_type": "markdown",
      "source": [
        "**Como representar algoritmos:**\n",
        "\n",
        "*   Verbalmente con Lenguaje Natural (Es más fácil de entender, es nativo, es subjetivo, no es universal)\n",
        "*   Escrito ~ lenguaje natural\n",
        "*   Imágenes (Planos, diagramas)\n",
        "*   Códigos de programación\n",
        "\n"
      ],
      "metadata": {
        "id": "eppO3GArCDqP"
      }
    },
    {
      "cell_type": "markdown",
      "source": [
        "<div>\n",
        "<img src=\"https://drive.google.com/uc?export=view&id=17EJmm07N1eOfIISg9SDAwJ2i0i7ZR5i2\" width=\"450\"/>\n",
        "</div>\n"
      ],
      "metadata": {
        "id": "NFyfSM-MuCei"
      }
    },
    {
      "cell_type": "markdown",
      "source": [
        "#### Programación"
      ],
      "metadata": {
        "id": "oWCYfzbJuuDk"
      }
    },
    {
      "cell_type": "markdown",
      "source": [
        "**¿Qué es la programación?**\n",
        "\n",
        "Según la RAE, hay 3 acepciones que son útiles en nuestro\n",
        "entorno ingenieril.\n",
        "\n",
        "\n",
        "* Idear y ordenar las acciones necesarias para realizar\n",
        "un proyecto.\n",
        "* Preparar ciertas máquinas o aparatos para que\n",
        "empiecen a funcionar en el momento y en la forma\n",
        "deseados.\n",
        "* Elaborar programas para su empleo en computadoras."
      ],
      "metadata": {
        "id": "yMvZyb5su8OG"
      }
    },
    {
      "cell_type": "markdown",
      "source": [
        "**Lenguaje de Programación**\n",
        "\n",
        "Es una colección de reglas que especifican la forma en\n",
        "que deben escribirse sentencias o instrucciones para\n",
        "que sea posible traducirlas a otras comprensibles para\n",
        "el procesador en que se ejecutarán.\n",
        "\n",
        "<div>\n",
        "<img src=\"https://drive.google.com/uc?export=view&id=1Ist03sh7aFA8Q9BrylTHCXk-WgC7Mgxk\" width=\"550\"/>\n",
        "</div>\n",
        "\n",
        "¿Conoces alguno de esta nube? ¿Encontraste el que usaremos en el ramo?\n",
        "Edita el bloque de texto siguiente a este y responde las preguntas:"
      ],
      "metadata": {
        "id": "l4ybwW2OFs80"
      }
    },
    {
      "cell_type": "markdown",
      "source": [
        ""
      ],
      "metadata": {
        "id": "JEBxRSYCwk9k"
      }
    },
    {
      "cell_type": "markdown",
      "source": [
        "#### Representar información en Programación"
      ],
      "metadata": {
        "id": "dcpePVI81_AG"
      }
    },
    {
      "cell_type": "markdown",
      "source": [
        "En general la unidad mínima de información sin sentido en sí misma,\n",
        "pero que adquiere significado a través de un contexto, la llamamos **dato**.\n",
        "\n",
        "\n",
        "<div>\n",
        "<img src=\"https://drive.google.com/uc?export=view&id=1W6WAlagCuBBjWmdKJuiJIM8irxcBJQ-w\" width=\"150\"/>\n",
        "</div>\n",
        "\n",
        "Ejemplos de dato:\n",
        "\n",
        "\n",
        "*   8\n",
        "*   Hola\n",
        "*   Verdadero\n",
        "\n",
        "¿Te calzan los ejemplos con la definición? ¿Que significa ese 8? Puede ser una edad, una cantidad de objetos, necesitamos más contexto o información para darle sentido\n",
        "\n"
      ],
      "metadata": {
        "id": "bpp-ypa92IjK"
      }
    },
    {
      "cell_type": "markdown",
      "source": [
        "Para darle más contexto a los datos, asociamos a ellos un **Tipo de Dato**.\n",
        "\n",
        "Esto nos permite clasificarlos de alguna forma según como se estructuran en lo técnico, pero lo más importante para nosotros, asociarlos con elementos de la realidad y entender como manipularlos.\n",
        "\n",
        "\n",
        "En lenguaje natural, podemos identificar 4 tipos de Tipos de Datos:\n",
        "\n",
        "\n",
        "*   Enteros: Números para representar elementos de la realidad que no son divisibles (Ej: 1 auto, 1 persona, 2 guitarras)\n",
        "*   Decimales: Números para representar elementos de la realidad que si son divisibles (Ej: 1 manzana, 1.5 kilos, 2.36 litros)\n",
        "*   Textos: Letras, palabras o frases (Ej: \"Hola a todos\", \"Chao\", \"a\")\n",
        "*   Lógicos: Verdadero o Falso (Recomiendo revisar: http://www.matematicas.ciencias.uchile.cl/juaco/section-1.html)\n",
        "\n"
      ],
      "metadata": {
        "id": "vLSicN6N7-Eu"
      }
    },
    {
      "cell_type": "markdown",
      "source": [
        "Para cerrar, entendemos un poco mejor lo que son los datos, que tienen algunas caracteristicas, pero ¿cómo los usamos o manipulamos en programación?\n",
        "\n",
        "Para solucionar eso aparece el concepto de **variable**.\n",
        "\n",
        "Técnicamente, la variable es un espacio de la memoria del computador destinado a guardar un dato.\n",
        "\n",
        "En las acciones que llevaremos a cabo nosotros con las variables, las podemos entender como la representación de un concepto y el valor asociado a este, algo parecido a las incógnitas que ya conocemos desde algebra.\n",
        "\n",
        "<div>\n",
        "<img src=\"https://drive.google.com/uc?export=view&id=1zC3d7iRXFTcgUpm9LtSFMkGeERT6QqOS\" width=\"350\"/>\n",
        "</div>\n"
      ],
      "metadata": {
        "id": "iZvy4OJu-fEn"
      }
    },
    {
      "cell_type": "markdown",
      "source": [
        "### Primeros Códigos de Programación"
      ],
      "metadata": {
        "id": "Z0-DDrhCxdkO"
      }
    },
    {
      "cell_type": "markdown",
      "source": [
        "En esta sección revisaremos algunas ideas a través de los cuadros de código, eso significa, que apretando play ocurrirán cosas. Prueba darle play al siguiente cuadro (la primera vez toma un par de segundos, paciencia!)."
      ],
      "metadata": {
        "id": "EbJiuX1e0bz-"
      }
    },
    {
      "cell_type": "code",
      "source": [
        "print(\"esto es una frase\")"
      ],
      "metadata": {
        "id": "xgtAPw7TxSmw"
      },
      "execution_count": null,
      "outputs": []
    },
    {
      "cell_type": "markdown",
      "source": [
        "Esa frase se generó ya que la función print, hace esa pega.\n",
        "\n",
        "Cada vez que queramos mostrar información, usamos la función print.\n",
        "\n",
        "Edita y ejecuta el siguiente cuadro para que se imprima o muestre tu nombre por pantalla."
      ],
      "metadata": {
        "id": "46ktban0FaH7"
      }
    },
    {
      "cell_type": "code",
      "source": [
        "print(\"\")"
      ],
      "metadata": {
        "id": "L1V9lXWQFZbf"
      },
      "execution_count": null,
      "outputs": []
    },
    {
      "cell_type": "markdown",
      "source": [
        "También podemos imprimir o mostrar por pantalla datos númericos, por ejemplo:"
      ],
      "metadata": {
        "id": "jH5qcPcjF4FC"
      }
    },
    {
      "cell_type": "code",
      "source": [
        "print(10)"
      ],
      "metadata": {
        "id": "hhvJH08LwkZS"
      },
      "execution_count": null,
      "outputs": []
    },
    {
      "cell_type": "markdown",
      "source": [
        "o incluso operaciones númericas"
      ],
      "metadata": {
        "id": "PszIfxOFIwfs"
      }
    },
    {
      "cell_type": "code",
      "source": [
        "print(2+2)"
      ],
      "metadata": {
        "id": "Zv7B8qW_IqIB"
      },
      "execution_count": null,
      "outputs": []
    },
    {
      "cell_type": "markdown",
      "source": [
        "En los print anteriores imprimimos datos directamente (Valores sin contexto). \n",
        "\n",
        "¿Que pasará con las variables? \n",
        "Antes de imprimirlas hay que crearlas (regla de oro: no podemos usar algo que no existe)\n",
        "\n",
        "Para crear una variable hay que pensar primero en su nombre, como estamos recién aprendiedo, usemos los clásicos nombres de incógnitas del álgebra y le daremos unos valores."
      ],
      "metadata": {
        "id": "7Eqd0S9yI3JJ"
      }
    },
    {
      "cell_type": "code",
      "source": [
        "x=10\n",
        "y=7"
      ],
      "metadata": {
        "id": "viyrD3JuIyze"
      },
      "execution_count": null,
      "outputs": []
    },
    {
      "cell_type": "markdown",
      "source": [
        "Ahora que ejecutaste la celda, ¿pasó o no pasó algo? Añade un cuadro de texto abajo de este y responde. \n",
        "\n",
        "Si no sabes que responder, revisar el cuadro de código de abajo quizá sea un pista."
      ],
      "metadata": {
        "id": "TPdGNUy_JYXD"
      }
    },
    {
      "cell_type": "code",
      "source": [
        "print(x)\n",
        "print(y)"
      ],
      "metadata": {
        "id": "cjEcTHivKAbc"
      },
      "execution_count": null,
      "outputs": []
    },
    {
      "cell_type": "markdown",
      "source": [
        "Para finalizar analiza el siguiente cuadro de código, trata de entenderlo y hacerle algún cambio para evidenciar como funciona."
      ],
      "metadata": {
        "id": "Fg3wt4uxKF-3"
      }
    },
    {
      "cell_type": "code",
      "source": [
        "x=5\n",
        "y=3\n",
        "print(\"mis variables x e y valen\",x,\"y\",y)"
      ],
      "metadata": {
        "id": "wRkhj4zwHKM1"
      },
      "execution_count": null,
      "outputs": []
    }
  ]
}